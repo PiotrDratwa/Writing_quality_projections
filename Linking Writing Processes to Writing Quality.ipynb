{
 "cells": [
  {
   "cell_type": "code",
   "execution_count": 3,
   "id": "814adba1",
   "metadata": {},
   "outputs": [],
   "source": [
    "import numpy as np\n",
    "import pandas as pd\n",
    "import matplotlib.pyplot as plt\n",
    "import seaborn as sns"
   ]
  },
  {
   "cell_type": "markdown",
   "id": "5fe2b413",
   "metadata": {},
   "source": [
    "## Data analysis"
   ]
  },
  {
   "cell_type": "code",
   "execution_count": 4,
   "id": "af0fa77c",
   "metadata": {
    "scrolled": true
   },
   "outputs": [
    {
     "ename": "FileNotFoundError",
     "evalue": "[Errno 2] No such file or directory: 'train_logs.csv'",
     "output_type": "error",
     "traceback": [
      "\u001b[1;31m---------------------------------------------------------------------------\u001b[0m",
      "\u001b[1;31mFileNotFoundError\u001b[0m                         Traceback (most recent call last)",
      "Cell \u001b[1;32mIn[4], line 1\u001b[0m\n\u001b[1;32m----> 1\u001b[0m df \u001b[38;5;241m=\u001b[39m pd\u001b[38;5;241m.\u001b[39mread_csv(\u001b[38;5;124m\"\u001b[39m\u001b[38;5;124mtrain_logs.csv\u001b[39m\u001b[38;5;124m\"\u001b[39m)\n\u001b[0;32m      2\u001b[0m test_logs \u001b[38;5;241m=\u001b[39m pd\u001b[38;5;241m.\u001b[39mread_csv(\u001b[38;5;124m\"\u001b[39m\u001b[38;5;124mtest_logs.csv\u001b[39m\u001b[38;5;124m\"\u001b[39m)\n\u001b[0;32m      3\u001b[0m train_scores \u001b[38;5;241m=\u001b[39m pd\u001b[38;5;241m.\u001b[39mread_csv(\u001b[38;5;124m\"\u001b[39m\u001b[38;5;124mtrain_scores.csv\u001b[39m\u001b[38;5;124m\"\u001b[39m)\n",
      "File \u001b[1;32m~\\anaconda3\\Lib\\site-packages\\pandas\\util\\_decorators.py:211\u001b[0m, in \u001b[0;36mdeprecate_kwarg.<locals>._deprecate_kwarg.<locals>.wrapper\u001b[1;34m(*args, **kwargs)\u001b[0m\n\u001b[0;32m    209\u001b[0m     \u001b[38;5;28;01melse\u001b[39;00m:\n\u001b[0;32m    210\u001b[0m         kwargs[new_arg_name] \u001b[38;5;241m=\u001b[39m new_arg_value\n\u001b[1;32m--> 211\u001b[0m \u001b[38;5;28;01mreturn\u001b[39;00m func(\u001b[38;5;241m*\u001b[39margs, \u001b[38;5;241m*\u001b[39m\u001b[38;5;241m*\u001b[39mkwargs)\n",
      "File \u001b[1;32m~\\anaconda3\\Lib\\site-packages\\pandas\\util\\_decorators.py:331\u001b[0m, in \u001b[0;36mdeprecate_nonkeyword_arguments.<locals>.decorate.<locals>.wrapper\u001b[1;34m(*args, **kwargs)\u001b[0m\n\u001b[0;32m    325\u001b[0m \u001b[38;5;28;01mif\u001b[39;00m \u001b[38;5;28mlen\u001b[39m(args) \u001b[38;5;241m>\u001b[39m num_allow_args:\n\u001b[0;32m    326\u001b[0m     warnings\u001b[38;5;241m.\u001b[39mwarn(\n\u001b[0;32m    327\u001b[0m         msg\u001b[38;5;241m.\u001b[39mformat(arguments\u001b[38;5;241m=\u001b[39m_format_argument_list(allow_args)),\n\u001b[0;32m    328\u001b[0m         \u001b[38;5;167;01mFutureWarning\u001b[39;00m,\n\u001b[0;32m    329\u001b[0m         stacklevel\u001b[38;5;241m=\u001b[39mfind_stack_level(),\n\u001b[0;32m    330\u001b[0m     )\n\u001b[1;32m--> 331\u001b[0m \u001b[38;5;28;01mreturn\u001b[39;00m func(\u001b[38;5;241m*\u001b[39margs, \u001b[38;5;241m*\u001b[39m\u001b[38;5;241m*\u001b[39mkwargs)\n",
      "File \u001b[1;32m~\\anaconda3\\Lib\\site-packages\\pandas\\io\\parsers\\readers.py:950\u001b[0m, in \u001b[0;36mread_csv\u001b[1;34m(filepath_or_buffer, sep, delimiter, header, names, index_col, usecols, squeeze, prefix, mangle_dupe_cols, dtype, engine, converters, true_values, false_values, skipinitialspace, skiprows, skipfooter, nrows, na_values, keep_default_na, na_filter, verbose, skip_blank_lines, parse_dates, infer_datetime_format, keep_date_col, date_parser, dayfirst, cache_dates, iterator, chunksize, compression, thousands, decimal, lineterminator, quotechar, quoting, doublequote, escapechar, comment, encoding, encoding_errors, dialect, error_bad_lines, warn_bad_lines, on_bad_lines, delim_whitespace, low_memory, memory_map, float_precision, storage_options)\u001b[0m\n\u001b[0;32m    935\u001b[0m kwds_defaults \u001b[38;5;241m=\u001b[39m _refine_defaults_read(\n\u001b[0;32m    936\u001b[0m     dialect,\n\u001b[0;32m    937\u001b[0m     delimiter,\n\u001b[1;32m   (...)\u001b[0m\n\u001b[0;32m    946\u001b[0m     defaults\u001b[38;5;241m=\u001b[39m{\u001b[38;5;124m\"\u001b[39m\u001b[38;5;124mdelimiter\u001b[39m\u001b[38;5;124m\"\u001b[39m: \u001b[38;5;124m\"\u001b[39m\u001b[38;5;124m,\u001b[39m\u001b[38;5;124m\"\u001b[39m},\n\u001b[0;32m    947\u001b[0m )\n\u001b[0;32m    948\u001b[0m kwds\u001b[38;5;241m.\u001b[39mupdate(kwds_defaults)\n\u001b[1;32m--> 950\u001b[0m \u001b[38;5;28;01mreturn\u001b[39;00m _read(filepath_or_buffer, kwds)\n",
      "File \u001b[1;32m~\\anaconda3\\Lib\\site-packages\\pandas\\io\\parsers\\readers.py:605\u001b[0m, in \u001b[0;36m_read\u001b[1;34m(filepath_or_buffer, kwds)\u001b[0m\n\u001b[0;32m    602\u001b[0m _validate_names(kwds\u001b[38;5;241m.\u001b[39mget(\u001b[38;5;124m\"\u001b[39m\u001b[38;5;124mnames\u001b[39m\u001b[38;5;124m\"\u001b[39m, \u001b[38;5;28;01mNone\u001b[39;00m))\n\u001b[0;32m    604\u001b[0m \u001b[38;5;66;03m# Create the parser.\u001b[39;00m\n\u001b[1;32m--> 605\u001b[0m parser \u001b[38;5;241m=\u001b[39m TextFileReader(filepath_or_buffer, \u001b[38;5;241m*\u001b[39m\u001b[38;5;241m*\u001b[39mkwds)\n\u001b[0;32m    607\u001b[0m \u001b[38;5;28;01mif\u001b[39;00m chunksize \u001b[38;5;129;01mor\u001b[39;00m iterator:\n\u001b[0;32m    608\u001b[0m     \u001b[38;5;28;01mreturn\u001b[39;00m parser\n",
      "File \u001b[1;32m~\\anaconda3\\Lib\\site-packages\\pandas\\io\\parsers\\readers.py:1442\u001b[0m, in \u001b[0;36mTextFileReader.__init__\u001b[1;34m(self, f, engine, **kwds)\u001b[0m\n\u001b[0;32m   1439\u001b[0m     \u001b[38;5;28mself\u001b[39m\u001b[38;5;241m.\u001b[39moptions[\u001b[38;5;124m\"\u001b[39m\u001b[38;5;124mhas_index_names\u001b[39m\u001b[38;5;124m\"\u001b[39m] \u001b[38;5;241m=\u001b[39m kwds[\u001b[38;5;124m\"\u001b[39m\u001b[38;5;124mhas_index_names\u001b[39m\u001b[38;5;124m\"\u001b[39m]\n\u001b[0;32m   1441\u001b[0m \u001b[38;5;28mself\u001b[39m\u001b[38;5;241m.\u001b[39mhandles: IOHandles \u001b[38;5;241m|\u001b[39m \u001b[38;5;28;01mNone\u001b[39;00m \u001b[38;5;241m=\u001b[39m \u001b[38;5;28;01mNone\u001b[39;00m\n\u001b[1;32m-> 1442\u001b[0m \u001b[38;5;28mself\u001b[39m\u001b[38;5;241m.\u001b[39m_engine \u001b[38;5;241m=\u001b[39m \u001b[38;5;28mself\u001b[39m\u001b[38;5;241m.\u001b[39m_make_engine(f, \u001b[38;5;28mself\u001b[39m\u001b[38;5;241m.\u001b[39mengine)\n",
      "File \u001b[1;32m~\\anaconda3\\Lib\\site-packages\\pandas\\io\\parsers\\readers.py:1735\u001b[0m, in \u001b[0;36mTextFileReader._make_engine\u001b[1;34m(self, f, engine)\u001b[0m\n\u001b[0;32m   1733\u001b[0m     \u001b[38;5;28;01mif\u001b[39;00m \u001b[38;5;124m\"\u001b[39m\u001b[38;5;124mb\u001b[39m\u001b[38;5;124m\"\u001b[39m \u001b[38;5;129;01mnot\u001b[39;00m \u001b[38;5;129;01min\u001b[39;00m mode:\n\u001b[0;32m   1734\u001b[0m         mode \u001b[38;5;241m+\u001b[39m\u001b[38;5;241m=\u001b[39m \u001b[38;5;124m\"\u001b[39m\u001b[38;5;124mb\u001b[39m\u001b[38;5;124m\"\u001b[39m\n\u001b[1;32m-> 1735\u001b[0m \u001b[38;5;28mself\u001b[39m\u001b[38;5;241m.\u001b[39mhandles \u001b[38;5;241m=\u001b[39m get_handle(\n\u001b[0;32m   1736\u001b[0m     f,\n\u001b[0;32m   1737\u001b[0m     mode,\n\u001b[0;32m   1738\u001b[0m     encoding\u001b[38;5;241m=\u001b[39m\u001b[38;5;28mself\u001b[39m\u001b[38;5;241m.\u001b[39moptions\u001b[38;5;241m.\u001b[39mget(\u001b[38;5;124m\"\u001b[39m\u001b[38;5;124mencoding\u001b[39m\u001b[38;5;124m\"\u001b[39m, \u001b[38;5;28;01mNone\u001b[39;00m),\n\u001b[0;32m   1739\u001b[0m     compression\u001b[38;5;241m=\u001b[39m\u001b[38;5;28mself\u001b[39m\u001b[38;5;241m.\u001b[39moptions\u001b[38;5;241m.\u001b[39mget(\u001b[38;5;124m\"\u001b[39m\u001b[38;5;124mcompression\u001b[39m\u001b[38;5;124m\"\u001b[39m, \u001b[38;5;28;01mNone\u001b[39;00m),\n\u001b[0;32m   1740\u001b[0m     memory_map\u001b[38;5;241m=\u001b[39m\u001b[38;5;28mself\u001b[39m\u001b[38;5;241m.\u001b[39moptions\u001b[38;5;241m.\u001b[39mget(\u001b[38;5;124m\"\u001b[39m\u001b[38;5;124mmemory_map\u001b[39m\u001b[38;5;124m\"\u001b[39m, \u001b[38;5;28;01mFalse\u001b[39;00m),\n\u001b[0;32m   1741\u001b[0m     is_text\u001b[38;5;241m=\u001b[39mis_text,\n\u001b[0;32m   1742\u001b[0m     errors\u001b[38;5;241m=\u001b[39m\u001b[38;5;28mself\u001b[39m\u001b[38;5;241m.\u001b[39moptions\u001b[38;5;241m.\u001b[39mget(\u001b[38;5;124m\"\u001b[39m\u001b[38;5;124mencoding_errors\u001b[39m\u001b[38;5;124m\"\u001b[39m, \u001b[38;5;124m\"\u001b[39m\u001b[38;5;124mstrict\u001b[39m\u001b[38;5;124m\"\u001b[39m),\n\u001b[0;32m   1743\u001b[0m     storage_options\u001b[38;5;241m=\u001b[39m\u001b[38;5;28mself\u001b[39m\u001b[38;5;241m.\u001b[39moptions\u001b[38;5;241m.\u001b[39mget(\u001b[38;5;124m\"\u001b[39m\u001b[38;5;124mstorage_options\u001b[39m\u001b[38;5;124m\"\u001b[39m, \u001b[38;5;28;01mNone\u001b[39;00m),\n\u001b[0;32m   1744\u001b[0m )\n\u001b[0;32m   1745\u001b[0m \u001b[38;5;28;01massert\u001b[39;00m \u001b[38;5;28mself\u001b[39m\u001b[38;5;241m.\u001b[39mhandles \u001b[38;5;129;01mis\u001b[39;00m \u001b[38;5;129;01mnot\u001b[39;00m \u001b[38;5;28;01mNone\u001b[39;00m\n\u001b[0;32m   1746\u001b[0m f \u001b[38;5;241m=\u001b[39m \u001b[38;5;28mself\u001b[39m\u001b[38;5;241m.\u001b[39mhandles\u001b[38;5;241m.\u001b[39mhandle\n",
      "File \u001b[1;32m~\\anaconda3\\Lib\\site-packages\\pandas\\io\\common.py:856\u001b[0m, in \u001b[0;36mget_handle\u001b[1;34m(path_or_buf, mode, encoding, compression, memory_map, is_text, errors, storage_options)\u001b[0m\n\u001b[0;32m    851\u001b[0m \u001b[38;5;28;01melif\u001b[39;00m \u001b[38;5;28misinstance\u001b[39m(handle, \u001b[38;5;28mstr\u001b[39m):\n\u001b[0;32m    852\u001b[0m     \u001b[38;5;66;03m# Check whether the filename is to be opened in binary mode.\u001b[39;00m\n\u001b[0;32m    853\u001b[0m     \u001b[38;5;66;03m# Binary mode does not support 'encoding' and 'newline'.\u001b[39;00m\n\u001b[0;32m    854\u001b[0m     \u001b[38;5;28;01mif\u001b[39;00m ioargs\u001b[38;5;241m.\u001b[39mencoding \u001b[38;5;129;01mand\u001b[39;00m \u001b[38;5;124m\"\u001b[39m\u001b[38;5;124mb\u001b[39m\u001b[38;5;124m\"\u001b[39m \u001b[38;5;129;01mnot\u001b[39;00m \u001b[38;5;129;01min\u001b[39;00m ioargs\u001b[38;5;241m.\u001b[39mmode:\n\u001b[0;32m    855\u001b[0m         \u001b[38;5;66;03m# Encoding\u001b[39;00m\n\u001b[1;32m--> 856\u001b[0m         handle \u001b[38;5;241m=\u001b[39m \u001b[38;5;28mopen\u001b[39m(\n\u001b[0;32m    857\u001b[0m             handle,\n\u001b[0;32m    858\u001b[0m             ioargs\u001b[38;5;241m.\u001b[39mmode,\n\u001b[0;32m    859\u001b[0m             encoding\u001b[38;5;241m=\u001b[39mioargs\u001b[38;5;241m.\u001b[39mencoding,\n\u001b[0;32m    860\u001b[0m             errors\u001b[38;5;241m=\u001b[39merrors,\n\u001b[0;32m    861\u001b[0m             newline\u001b[38;5;241m=\u001b[39m\u001b[38;5;124m\"\u001b[39m\u001b[38;5;124m\"\u001b[39m,\n\u001b[0;32m    862\u001b[0m         )\n\u001b[0;32m    863\u001b[0m     \u001b[38;5;28;01melse\u001b[39;00m:\n\u001b[0;32m    864\u001b[0m         \u001b[38;5;66;03m# Binary mode\u001b[39;00m\n\u001b[0;32m    865\u001b[0m         handle \u001b[38;5;241m=\u001b[39m \u001b[38;5;28mopen\u001b[39m(handle, ioargs\u001b[38;5;241m.\u001b[39mmode)\n",
      "\u001b[1;31mFileNotFoundError\u001b[0m: [Errno 2] No such file or directory: 'train_logs.csv'"
     ]
    }
   ],
   "source": [
    "df = pd.read_csv(\"train_logs.csv\")\n",
    "test_logs = pd.read_csv(\"test_logs.csv\")\n",
    "train_scores = pd.read_csv(\"train_scores.csv\")"
   ]
  },
  {
   "cell_type": "code",
   "execution_count": 182,
   "id": "d65437f7",
   "metadata": {},
   "outputs": [
    {
     "data": {
      "text/html": [
       "<div>\n",
       "<style scoped>\n",
       "    .dataframe tbody tr th:only-of-type {\n",
       "        vertical-align: middle;\n",
       "    }\n",
       "\n",
       "    .dataframe tbody tr th {\n",
       "        vertical-align: top;\n",
       "    }\n",
       "\n",
       "    .dataframe thead th {\n",
       "        text-align: right;\n",
       "    }\n",
       "</style>\n",
       "<table border=\"1\" class=\"dataframe\">\n",
       "  <thead>\n",
       "    <tr style=\"text-align: right;\">\n",
       "      <th></th>\n",
       "      <th>id</th>\n",
       "      <th>score</th>\n",
       "    </tr>\n",
       "  </thead>\n",
       "  <tbody>\n",
       "    <tr>\n",
       "      <th>0</th>\n",
       "      <td>001519c8</td>\n",
       "      <td>3.5</td>\n",
       "    </tr>\n",
       "    <tr>\n",
       "      <th>1</th>\n",
       "      <td>0022f953</td>\n",
       "      <td>3.5</td>\n",
       "    </tr>\n",
       "    <tr>\n",
       "      <th>2</th>\n",
       "      <td>0042269b</td>\n",
       "      <td>6.0</td>\n",
       "    </tr>\n",
       "    <tr>\n",
       "      <th>3</th>\n",
       "      <td>0059420b</td>\n",
       "      <td>2.0</td>\n",
       "    </tr>\n",
       "    <tr>\n",
       "      <th>4</th>\n",
       "      <td>0075873a</td>\n",
       "      <td>4.0</td>\n",
       "    </tr>\n",
       "    <tr>\n",
       "      <th>...</th>\n",
       "      <td>...</td>\n",
       "      <td>...</td>\n",
       "    </tr>\n",
       "    <tr>\n",
       "      <th>2466</th>\n",
       "      <td>ffb8c745</td>\n",
       "      <td>3.5</td>\n",
       "    </tr>\n",
       "    <tr>\n",
       "      <th>2467</th>\n",
       "      <td>ffbef7e5</td>\n",
       "      <td>4.0</td>\n",
       "    </tr>\n",
       "    <tr>\n",
       "      <th>2468</th>\n",
       "      <td>ffccd6fd</td>\n",
       "      <td>1.5</td>\n",
       "    </tr>\n",
       "    <tr>\n",
       "      <th>2469</th>\n",
       "      <td>ffec5b38</td>\n",
       "      <td>5.0</td>\n",
       "    </tr>\n",
       "    <tr>\n",
       "      <th>2470</th>\n",
       "      <td>fff05981</td>\n",
       "      <td>4.0</td>\n",
       "    </tr>\n",
       "  </tbody>\n",
       "</table>\n",
       "<p>2471 rows × 2 columns</p>\n",
       "</div>"
      ],
      "text/plain": [
       "            id  score\n",
       "0     001519c8    3.5\n",
       "1     0022f953    3.5\n",
       "2     0042269b    6.0\n",
       "3     0059420b    2.0\n",
       "4     0075873a    4.0\n",
       "...        ...    ...\n",
       "2466  ffb8c745    3.5\n",
       "2467  ffbef7e5    4.0\n",
       "2468  ffccd6fd    1.5\n",
       "2469  ffec5b38    5.0\n",
       "2470  fff05981    4.0\n",
       "\n",
       "[2471 rows x 2 columns]"
      ]
     },
     "execution_count": 182,
     "metadata": {},
     "output_type": "execute_result"
    }
   ],
   "source": [
    "train_scores"
   ]
  },
  {
   "cell_type": "code",
   "execution_count": 6,
   "id": "2c4e9940",
   "metadata": {},
   "outputs": [
    {
     "name": "stdout",
     "output_type": "stream",
     "text": [
      "<class 'pandas.core.frame.DataFrame'>\n",
      "RangeIndex: 8405898 entries, 0 to 8405897\n",
      "Data columns (total 11 columns):\n",
      " #   Column           Dtype \n",
      "---  ------           ----- \n",
      " 0   id               object\n",
      " 1   event_id         int64 \n",
      " 2   down_time        int64 \n",
      " 3   up_time          int64 \n",
      " 4   action_time      int64 \n",
      " 5   activity         object\n",
      " 6   down_event       object\n",
      " 7   up_event         object\n",
      " 8   text_change      object\n",
      " 9   cursor_position  int64 \n",
      " 10  word_count       int64 \n",
      "dtypes: int64(6), object(5)\n",
      "memory usage: 705.5+ MB\n"
     ]
    }
   ],
   "source": [
    "df.info()"
   ]
  },
  {
   "cell_type": "code",
   "execution_count": 8,
   "id": "e8eab7fa",
   "metadata": {},
   "outputs": [
    {
     "data": {
      "text/html": [
       "<div>\n",
       "<style scoped>\n",
       "    .dataframe tbody tr th:only-of-type {\n",
       "        vertical-align: middle;\n",
       "    }\n",
       "\n",
       "    .dataframe tbody tr th {\n",
       "        vertical-align: top;\n",
       "    }\n",
       "\n",
       "    .dataframe thead th {\n",
       "        text-align: right;\n",
       "    }\n",
       "</style>\n",
       "<table border=\"1\" class=\"dataframe\">\n",
       "  <thead>\n",
       "    <tr style=\"text-align: right;\">\n",
       "      <th></th>\n",
       "      <th>event_id</th>\n",
       "      <th>down_time</th>\n",
       "      <th>up_time</th>\n",
       "      <th>action_time</th>\n",
       "      <th>cursor_position</th>\n",
       "      <th>word_count</th>\n",
       "    </tr>\n",
       "  </thead>\n",
       "  <tbody>\n",
       "    <tr>\n",
       "      <th>count</th>\n",
       "      <td>8.405898e+06</td>\n",
       "      <td>8.405898e+06</td>\n",
       "      <td>8.405898e+06</td>\n",
       "      <td>8.405898e+06</td>\n",
       "      <td>8.405898e+06</td>\n",
       "      <td>8.405898e+06</td>\n",
       "    </tr>\n",
       "    <tr>\n",
       "      <th>mean</th>\n",
       "      <td>2.067649e+03</td>\n",
       "      <td>7.935603e+05</td>\n",
       "      <td>7.936584e+05</td>\n",
       "      <td>9.808498e+01</td>\n",
       "      <td>1.222964e+03</td>\n",
       "      <td>2.314687e+02</td>\n",
       "    </tr>\n",
       "    <tr>\n",
       "      <th>std</th>\n",
       "      <td>1.588284e+03</td>\n",
       "      <td>5.149451e+05</td>\n",
       "      <td>5.149428e+05</td>\n",
       "      <td>2.533985e+02</td>\n",
       "      <td>9.485242e+02</td>\n",
       "      <td>1.759088e+02</td>\n",
       "    </tr>\n",
       "    <tr>\n",
       "      <th>min</th>\n",
       "      <td>1.000000e+00</td>\n",
       "      <td>1.060000e+02</td>\n",
       "      <td>2.520000e+02</td>\n",
       "      <td>0.000000e+00</td>\n",
       "      <td>0.000000e+00</td>\n",
       "      <td>0.000000e+00</td>\n",
       "    </tr>\n",
       "    <tr>\n",
       "      <th>25%</th>\n",
       "      <td>8.520000e+02</td>\n",
       "      <td>3.731842e+05</td>\n",
       "      <td>3.732820e+05</td>\n",
       "      <td>6.600000e+01</td>\n",
       "      <td>4.990000e+02</td>\n",
       "      <td>9.600000e+01</td>\n",
       "    </tr>\n",
       "    <tr>\n",
       "      <th>50%</th>\n",
       "      <td>1.726000e+03</td>\n",
       "      <td>7.208860e+05</td>\n",
       "      <td>7.209800e+05</td>\n",
       "      <td>9.300000e+01</td>\n",
       "      <td>1.043000e+03</td>\n",
       "      <td>2.000000e+02</td>\n",
       "    </tr>\n",
       "    <tr>\n",
       "      <th>75%</th>\n",
       "      <td>2.926000e+03</td>\n",
       "      <td>1.163042e+06</td>\n",
       "      <td>1.163141e+06</td>\n",
       "      <td>1.220000e+02</td>\n",
       "      <td>1.706000e+03</td>\n",
       "      <td>3.270000e+02</td>\n",
       "    </tr>\n",
       "    <tr>\n",
       "      <th>max</th>\n",
       "      <td>1.287600e+04</td>\n",
       "      <td>8.313630e+06</td>\n",
       "      <td>8.313707e+06</td>\n",
       "      <td>4.474700e+05</td>\n",
       "      <td>7.802000e+03</td>\n",
       "      <td>1.326000e+03</td>\n",
       "    </tr>\n",
       "  </tbody>\n",
       "</table>\n",
       "</div>"
      ],
      "text/plain": [
       "           event_id     down_time       up_time   action_time  \\\n",
       "count  8.405898e+06  8.405898e+06  8.405898e+06  8.405898e+06   \n",
       "mean   2.067649e+03  7.935603e+05  7.936584e+05  9.808498e+01   \n",
       "std    1.588284e+03  5.149451e+05  5.149428e+05  2.533985e+02   \n",
       "min    1.000000e+00  1.060000e+02  2.520000e+02  0.000000e+00   \n",
       "25%    8.520000e+02  3.731842e+05  3.732820e+05  6.600000e+01   \n",
       "50%    1.726000e+03  7.208860e+05  7.209800e+05  9.300000e+01   \n",
       "75%    2.926000e+03  1.163042e+06  1.163141e+06  1.220000e+02   \n",
       "max    1.287600e+04  8.313630e+06  8.313707e+06  4.474700e+05   \n",
       "\n",
       "       cursor_position    word_count  \n",
       "count     8.405898e+06  8.405898e+06  \n",
       "mean      1.222964e+03  2.314687e+02  \n",
       "std       9.485242e+02  1.759088e+02  \n",
       "min       0.000000e+00  0.000000e+00  \n",
       "25%       4.990000e+02  9.600000e+01  \n",
       "50%       1.043000e+03  2.000000e+02  \n",
       "75%       1.706000e+03  3.270000e+02  \n",
       "max       7.802000e+03  1.326000e+03  "
      ]
     },
     "execution_count": 8,
     "metadata": {},
     "output_type": "execute_result"
    }
   ],
   "source": [
    "df.describe()"
   ]
  },
  {
   "cell_type": "markdown",
   "id": "ce760b50",
   "metadata": {},
   "source": [
    "value count ~ 840500\\\n",
    "mean essay lenght ~ 231 words \\\n",
    "max essay lenght ~ 1326 words \\\n",
    "mean action time ~ 98 milliseconds \\\n",
    "max action time ~ 4.5 seconds "
   ]
  },
  {
   "cell_type": "code",
   "execution_count": 10,
   "id": "29cc22dc",
   "metadata": {},
   "outputs": [
    {
     "data": {
      "text/html": [
       "<div>\n",
       "<style scoped>\n",
       "    .dataframe tbody tr th:only-of-type {\n",
       "        vertical-align: middle;\n",
       "    }\n",
       "\n",
       "    .dataframe tbody tr th {\n",
       "        vertical-align: top;\n",
       "    }\n",
       "\n",
       "    .dataframe thead th {\n",
       "        text-align: right;\n",
       "    }\n",
       "</style>\n",
       "<table border=\"1\" class=\"dataframe\">\n",
       "  <thead>\n",
       "    <tr style=\"text-align: right;\">\n",
       "      <th></th>\n",
       "      <th>id</th>\n",
       "      <th>event_id</th>\n",
       "      <th>down_time</th>\n",
       "      <th>up_time</th>\n",
       "      <th>action_time</th>\n",
       "      <th>activity</th>\n",
       "      <th>down_event</th>\n",
       "      <th>up_event</th>\n",
       "      <th>text_change</th>\n",
       "      <th>cursor_position</th>\n",
       "      <th>word_count</th>\n",
       "    </tr>\n",
       "  </thead>\n",
       "  <tbody>\n",
       "    <tr>\n",
       "      <th>0</th>\n",
       "      <td>001519c8</td>\n",
       "      <td>1</td>\n",
       "      <td>4526</td>\n",
       "      <td>4557</td>\n",
       "      <td>31</td>\n",
       "      <td>Nonproduction</td>\n",
       "      <td>Leftclick</td>\n",
       "      <td>Leftclick</td>\n",
       "      <td>NoChange</td>\n",
       "      <td>0</td>\n",
       "      <td>0</td>\n",
       "    </tr>\n",
       "    <tr>\n",
       "      <th>1</th>\n",
       "      <td>001519c8</td>\n",
       "      <td>2</td>\n",
       "      <td>4558</td>\n",
       "      <td>4962</td>\n",
       "      <td>404</td>\n",
       "      <td>Nonproduction</td>\n",
       "      <td>Leftclick</td>\n",
       "      <td>Leftclick</td>\n",
       "      <td>NoChange</td>\n",
       "      <td>0</td>\n",
       "      <td>0</td>\n",
       "    </tr>\n",
       "    <tr>\n",
       "      <th>2</th>\n",
       "      <td>001519c8</td>\n",
       "      <td>3</td>\n",
       "      <td>106571</td>\n",
       "      <td>106571</td>\n",
       "      <td>0</td>\n",
       "      <td>Nonproduction</td>\n",
       "      <td>Shift</td>\n",
       "      <td>Shift</td>\n",
       "      <td>NoChange</td>\n",
       "      <td>0</td>\n",
       "      <td>0</td>\n",
       "    </tr>\n",
       "    <tr>\n",
       "      <th>3</th>\n",
       "      <td>001519c8</td>\n",
       "      <td>4</td>\n",
       "      <td>106686</td>\n",
       "      <td>106777</td>\n",
       "      <td>91</td>\n",
       "      <td>Input</td>\n",
       "      <td>q</td>\n",
       "      <td>q</td>\n",
       "      <td>q</td>\n",
       "      <td>1</td>\n",
       "      <td>1</td>\n",
       "    </tr>\n",
       "    <tr>\n",
       "      <th>4</th>\n",
       "      <td>001519c8</td>\n",
       "      <td>5</td>\n",
       "      <td>107196</td>\n",
       "      <td>107323</td>\n",
       "      <td>127</td>\n",
       "      <td>Input</td>\n",
       "      <td>q</td>\n",
       "      <td>q</td>\n",
       "      <td>q</td>\n",
       "      <td>2</td>\n",
       "      <td>1</td>\n",
       "    </tr>\n",
       "    <tr>\n",
       "      <th>...</th>\n",
       "      <td>...</td>\n",
       "      <td>...</td>\n",
       "      <td>...</td>\n",
       "      <td>...</td>\n",
       "      <td>...</td>\n",
       "      <td>...</td>\n",
       "      <td>...</td>\n",
       "      <td>...</td>\n",
       "      <td>...</td>\n",
       "      <td>...</td>\n",
       "      <td>...</td>\n",
       "    </tr>\n",
       "    <tr>\n",
       "      <th>8405893</th>\n",
       "      <td>fff05981</td>\n",
       "      <td>3615</td>\n",
       "      <td>2063944</td>\n",
       "      <td>2064440</td>\n",
       "      <td>496</td>\n",
       "      <td>Nonproduction</td>\n",
       "      <td>Leftclick</td>\n",
       "      <td>Leftclick</td>\n",
       "      <td>NoChange</td>\n",
       "      <td>1031</td>\n",
       "      <td>240</td>\n",
       "    </tr>\n",
       "    <tr>\n",
       "      <th>8405894</th>\n",
       "      <td>fff05981</td>\n",
       "      <td>3616</td>\n",
       "      <td>2064497</td>\n",
       "      <td>2064497</td>\n",
       "      <td>0</td>\n",
       "      <td>Nonproduction</td>\n",
       "      <td>Shift</td>\n",
       "      <td>Shift</td>\n",
       "      <td>NoChange</td>\n",
       "      <td>1031</td>\n",
       "      <td>240</td>\n",
       "    </tr>\n",
       "    <tr>\n",
       "      <th>8405895</th>\n",
       "      <td>fff05981</td>\n",
       "      <td>3617</td>\n",
       "      <td>2064657</td>\n",
       "      <td>2064765</td>\n",
       "      <td>108</td>\n",
       "      <td>Replace</td>\n",
       "      <td>q</td>\n",
       "      <td>q</td>\n",
       "      <td>q =&gt; q</td>\n",
       "      <td>1031</td>\n",
       "      <td>240</td>\n",
       "    </tr>\n",
       "    <tr>\n",
       "      <th>8405896</th>\n",
       "      <td>fff05981</td>\n",
       "      <td>3618</td>\n",
       "      <td>2069186</td>\n",
       "      <td>2069259</td>\n",
       "      <td>73</td>\n",
       "      <td>Nonproduction</td>\n",
       "      <td>Leftclick</td>\n",
       "      <td>Leftclick</td>\n",
       "      <td>NoChange</td>\n",
       "      <td>1028</td>\n",
       "      <td>240</td>\n",
       "    </tr>\n",
       "    <tr>\n",
       "      <th>8405897</th>\n",
       "      <td>fff05981</td>\n",
       "      <td>3619</td>\n",
       "      <td>2070065</td>\n",
       "      <td>2070133</td>\n",
       "      <td>68</td>\n",
       "      <td>Input</td>\n",
       "      <td>.</td>\n",
       "      <td>.</td>\n",
       "      <td>.</td>\n",
       "      <td>1029</td>\n",
       "      <td>240</td>\n",
       "    </tr>\n",
       "  </tbody>\n",
       "</table>\n",
       "<p>8405898 rows × 11 columns</p>\n",
       "</div>"
      ],
      "text/plain": [
       "               id  event_id  down_time  up_time  action_time       activity  \\\n",
       "0        001519c8         1       4526     4557           31  Nonproduction   \n",
       "1        001519c8         2       4558     4962          404  Nonproduction   \n",
       "2        001519c8         3     106571   106571            0  Nonproduction   \n",
       "3        001519c8         4     106686   106777           91          Input   \n",
       "4        001519c8         5     107196   107323          127          Input   \n",
       "...           ...       ...        ...      ...          ...            ...   \n",
       "8405893  fff05981      3615    2063944  2064440          496  Nonproduction   \n",
       "8405894  fff05981      3616    2064497  2064497            0  Nonproduction   \n",
       "8405895  fff05981      3617    2064657  2064765          108        Replace   \n",
       "8405896  fff05981      3618    2069186  2069259           73  Nonproduction   \n",
       "8405897  fff05981      3619    2070065  2070133           68          Input   \n",
       "\n",
       "        down_event   up_event text_change  cursor_position  word_count  \n",
       "0        Leftclick  Leftclick    NoChange                0           0  \n",
       "1        Leftclick  Leftclick    NoChange                0           0  \n",
       "2            Shift      Shift    NoChange                0           0  \n",
       "3                q          q           q                1           1  \n",
       "4                q          q           q                2           1  \n",
       "...            ...        ...         ...              ...         ...  \n",
       "8405893  Leftclick  Leftclick    NoChange             1031         240  \n",
       "8405894      Shift      Shift    NoChange             1031         240  \n",
       "8405895          q          q      q => q             1031         240  \n",
       "8405896  Leftclick  Leftclick    NoChange             1028         240  \n",
       "8405897          .          .           .             1029         240  \n",
       "\n",
       "[8405898 rows x 11 columns]"
      ]
     },
     "execution_count": 10,
     "metadata": {},
     "output_type": "execute_result"
    }
   ],
   "source": [
    "df"
   ]
  },
  {
   "cell_type": "code",
   "execution_count": 12,
   "id": "33d4e7e1",
   "metadata": {
    "scrolled": true
   },
   "outputs": [
    {
     "name": "stdout",
     "output_type": "stream",
     "text": [
      "count of unique ids 2471 \n",
      "count of unique activities 50\n",
      "count of unique down events 131\n",
      "count of unique up events 130\n",
      "count of unique text changes 4111\n"
     ]
    }
   ],
   "source": [
    "print(f'count of unique ids {len(df[\"id\"].unique())} \\ncount of unique activities {len(df[\"activity\"].unique())}') \n",
    "print(f'count of unique down events {len(df[\"down_event\"].unique())}\\ncount of unique up events {len(df[\"up_event\"].unique())}')\n",
    "print(f'count of unique text changes {len(df[\"text_change\"].unique())}')"
   ]
  },
  {
   "cell_type": "code",
   "execution_count": 6,
   "id": "6a5e3ba8",
   "metadata": {
    "scrolled": true
   },
   "outputs": [
    {
     "ename": "KeyboardInterrupt",
     "evalue": "",
     "output_type": "error",
     "traceback": [
      "\u001b[1;31m---------------------------------------------------------------------------\u001b[0m",
      "\u001b[1;31mKeyboardInterrupt\u001b[0m                         Traceback (most recent call last)",
      "Cell \u001b[1;32mIn[6], line 2\u001b[0m\n\u001b[0;32m      1\u001b[0m \u001b[38;5;28;01mfor\u001b[39;00m i \u001b[38;5;129;01min\u001b[39;00m df[\u001b[38;5;124m\"\u001b[39m\u001b[38;5;124mup_event\u001b[39m\u001b[38;5;124m\"\u001b[39m]\u001b[38;5;241m.\u001b[39munique():\n\u001b[1;32m----> 2\u001b[0m     \u001b[38;5;28;01mif\u001b[39;00m i \u001b[38;5;129;01mnot\u001b[39;00m \u001b[38;5;129;01min\u001b[39;00m \u001b[43mdf\u001b[49m\u001b[43m[\u001b[49m\u001b[38;5;124;43m\"\u001b[39;49m\u001b[38;5;124;43mdown_event\u001b[39;49m\u001b[38;5;124;43m\"\u001b[39;49m\u001b[43m]\u001b[49m\u001b[38;5;241;43m.\u001b[39;49m\u001b[43munique\u001b[49m\u001b[43m(\u001b[49m\u001b[43m)\u001b[49m:\n\u001b[0;32m      3\u001b[0m         \u001b[38;5;28mprint\u001b[39m(i)\n",
      "File \u001b[1;32mD:\\anaconda\\lib\\site-packages\\pandas\\core\\series.py:2242\u001b[0m, in \u001b[0;36mSeries.unique\u001b[1;34m(self)\u001b[0m\n\u001b[0;32m   2183\u001b[0m \u001b[38;5;28;01mdef\u001b[39;00m \u001b[38;5;21munique\u001b[39m(\u001b[38;5;28mself\u001b[39m) \u001b[38;5;241m-\u001b[39m\u001b[38;5;241m>\u001b[39m ArrayLike:\n\u001b[0;32m   2184\u001b[0m \u001b[38;5;250m    \u001b[39m\u001b[38;5;124;03m\"\"\"\u001b[39;00m\n\u001b[0;32m   2185\u001b[0m \u001b[38;5;124;03m    Return unique values of Series object.\u001b[39;00m\n\u001b[0;32m   2186\u001b[0m \n\u001b[1;32m   (...)\u001b[0m\n\u001b[0;32m   2240\u001b[0m \u001b[38;5;124;03m    Categories (3, object): ['a' < 'b' < 'c']\u001b[39;00m\n\u001b[0;32m   2241\u001b[0m \u001b[38;5;124;03m    \"\"\"\u001b[39;00m\n\u001b[1;32m-> 2242\u001b[0m     \u001b[38;5;28;01mreturn\u001b[39;00m \u001b[38;5;28;43msuper\u001b[39;49m\u001b[43m(\u001b[49m\u001b[43m)\u001b[49m\u001b[38;5;241;43m.\u001b[39;49m\u001b[43munique\u001b[49m\u001b[43m(\u001b[49m\u001b[43m)\u001b[49m\n",
      "File \u001b[1;32mD:\\anaconda\\lib\\site-packages\\pandas\\core\\base.py:1001\u001b[0m, in \u001b[0;36mIndexOpsMixin.unique\u001b[1;34m(self)\u001b[0m\n\u001b[0;32m    999\u001b[0m         result \u001b[38;5;241m=\u001b[39m np\u001b[38;5;241m.\u001b[39masarray(result)\n\u001b[0;32m   1000\u001b[0m \u001b[38;5;28;01melse\u001b[39;00m:\n\u001b[1;32m-> 1001\u001b[0m     result \u001b[38;5;241m=\u001b[39m \u001b[43munique1d\u001b[49m\u001b[43m(\u001b[49m\u001b[43mvalues\u001b[49m\u001b[43m)\u001b[49m\n\u001b[0;32m   1003\u001b[0m \u001b[38;5;28;01mreturn\u001b[39;00m result\n",
      "File \u001b[1;32mD:\\anaconda\\lib\\site-packages\\pandas\\core\\algorithms.py:409\u001b[0m, in \u001b[0;36munique\u001b[1;34m(values)\u001b[0m\n\u001b[0;32m    315\u001b[0m \u001b[38;5;28;01mdef\u001b[39;00m \u001b[38;5;21munique\u001b[39m(values):\n\u001b[0;32m    316\u001b[0m \u001b[38;5;250m    \u001b[39m\u001b[38;5;124;03m\"\"\"\u001b[39;00m\n\u001b[0;32m    317\u001b[0m \u001b[38;5;124;03m    Return unique values based on a hash table.\u001b[39;00m\n\u001b[0;32m    318\u001b[0m \n\u001b[1;32m   (...)\u001b[0m\n\u001b[0;32m    407\u001b[0m \u001b[38;5;124;03m    array([('a', 'b'), ('b', 'a'), ('a', 'c')], dtype=object)\u001b[39;00m\n\u001b[0;32m    408\u001b[0m \u001b[38;5;124;03m    \"\"\"\u001b[39;00m\n\u001b[1;32m--> 409\u001b[0m     \u001b[38;5;28;01mreturn\u001b[39;00m \u001b[43munique_with_mask\u001b[49m\u001b[43m(\u001b[49m\u001b[43mvalues\u001b[49m\u001b[43m)\u001b[49m\n",
      "File \u001b[1;32mD:\\anaconda\\lib\\site-packages\\pandas\\core\\algorithms.py:421\u001b[0m, in \u001b[0;36munique_with_mask\u001b[1;34m(values, mask)\u001b[0m\n\u001b[0;32m    418\u001b[0m     \u001b[38;5;28;01mreturn\u001b[39;00m values\u001b[38;5;241m.\u001b[39munique()\n\u001b[0;32m    420\u001b[0m original \u001b[38;5;241m=\u001b[39m values\n\u001b[1;32m--> 421\u001b[0m htable, values \u001b[38;5;241m=\u001b[39m \u001b[43m_get_hashtable_algo\u001b[49m\u001b[43m(\u001b[49m\u001b[43mvalues\u001b[49m\u001b[43m)\u001b[49m\n\u001b[0;32m    423\u001b[0m table \u001b[38;5;241m=\u001b[39m htable(\u001b[38;5;28mlen\u001b[39m(values))\n\u001b[0;32m    424\u001b[0m \u001b[38;5;28;01mif\u001b[39;00m mask \u001b[38;5;129;01mis\u001b[39;00m \u001b[38;5;28;01mNone\u001b[39;00m:\n",
      "File \u001b[1;32mD:\\anaconda\\lib\\site-packages\\pandas\\core\\algorithms.py:282\u001b[0m, in \u001b[0;36m_get_hashtable_algo\u001b[1;34m(values)\u001b[0m\n\u001b[0;32m    270\u001b[0m \u001b[38;5;250m\u001b[39m\u001b[38;5;124;03m\"\"\"\u001b[39;00m\n\u001b[0;32m    271\u001b[0m \u001b[38;5;124;03mParameters\u001b[39;00m\n\u001b[0;32m    272\u001b[0m \u001b[38;5;124;03m----------\u001b[39;00m\n\u001b[1;32m   (...)\u001b[0m\n\u001b[0;32m    278\u001b[0m \u001b[38;5;124;03mvalues : ndarray\u001b[39;00m\n\u001b[0;32m    279\u001b[0m \u001b[38;5;124;03m\"\"\"\u001b[39;00m\n\u001b[0;32m    280\u001b[0m values \u001b[38;5;241m=\u001b[39m _ensure_data(values)\n\u001b[1;32m--> 282\u001b[0m ndtype \u001b[38;5;241m=\u001b[39m \u001b[43m_check_object_for_strings\u001b[49m\u001b[43m(\u001b[49m\u001b[43mvalues\u001b[49m\u001b[43m)\u001b[49m\n\u001b[0;32m    283\u001b[0m htable \u001b[38;5;241m=\u001b[39m _hashtables[ndtype]\n\u001b[0;32m    284\u001b[0m \u001b[38;5;28;01mreturn\u001b[39;00m htable, values\n",
      "\u001b[1;31mKeyboardInterrupt\u001b[0m: "
     ]
    }
   ],
   "source": [
    "for i in df[\"up_event\"].unique():\n",
    "    if i not in df[\"down_event\"].unique():\n",
    "        print(i)"
   ]
  },
  {
   "cell_type": "code",
   "execution_count": 8,
   "id": "a490b4e8",
   "metadata": {},
   "outputs": [
    {
     "data": {
      "text/html": [
       "<div>\n",
       "<style scoped>\n",
       "    .dataframe tbody tr th:only-of-type {\n",
       "        vertical-align: middle;\n",
       "    }\n",
       "\n",
       "    .dataframe tbody tr th {\n",
       "        vertical-align: top;\n",
       "    }\n",
       "\n",
       "    .dataframe thead th {\n",
       "        text-align: right;\n",
       "    }\n",
       "</style>\n",
       "<table border=\"1\" class=\"dataframe\">\n",
       "  <thead>\n",
       "    <tr style=\"text-align: right;\">\n",
       "      <th></th>\n",
       "      <th>id</th>\n",
       "      <th>event_id</th>\n",
       "      <th>down_time</th>\n",
       "      <th>up_time</th>\n",
       "      <th>action_time</th>\n",
       "      <th>activity</th>\n",
       "      <th>down_event</th>\n",
       "      <th>up_event</th>\n",
       "      <th>cursor_position</th>\n",
       "      <th>word_count</th>\n",
       "    </tr>\n",
       "    <tr>\n",
       "      <th>text_change</th>\n",
       "      <th></th>\n",
       "      <th></th>\n",
       "      <th></th>\n",
       "      <th></th>\n",
       "      <th></th>\n",
       "      <th></th>\n",
       "      <th></th>\n",
       "      <th></th>\n",
       "      <th></th>\n",
       "      <th></th>\n",
       "    </tr>\n",
       "  </thead>\n",
       "  <tbody>\n",
       "    <tr>\n",
       "      <th>\\n</th>\n",
       "      <td>27977</td>\n",
       "      <td>27977</td>\n",
       "      <td>27977</td>\n",
       "      <td>27977</td>\n",
       "      <td>27977</td>\n",
       "      <td>27977</td>\n",
       "      <td>27977</td>\n",
       "      <td>27977</td>\n",
       "      <td>27977</td>\n",
       "      <td>27977</td>\n",
       "    </tr>\n",
       "    <tr>\n",
       "      <th></th>\n",
       "      <td>1376829</td>\n",
       "      <td>1376829</td>\n",
       "      <td>1376829</td>\n",
       "      <td>1376829</td>\n",
       "      <td>1376829</td>\n",
       "      <td>1376829</td>\n",
       "      <td>1376829</td>\n",
       "      <td>1376829</td>\n",
       "      <td>1376829</td>\n",
       "      <td>1376829</td>\n",
       "    </tr>\n",
       "    <tr>\n",
       "      <th>\"</th>\n",
       "      <td>4659</td>\n",
       "      <td>4659</td>\n",
       "      <td>4659</td>\n",
       "      <td>4659</td>\n",
       "      <td>4659</td>\n",
       "      <td>4659</td>\n",
       "      <td>4659</td>\n",
       "      <td>4659</td>\n",
       "      <td>4659</td>\n",
       "      <td>4659</td>\n",
       "    </tr>\n",
       "    <tr>\n",
       "      <th>'</th>\n",
       "      <td>13192</td>\n",
       "      <td>13192</td>\n",
       "      <td>13192</td>\n",
       "      <td>13192</td>\n",
       "      <td>13192</td>\n",
       "      <td>13192</td>\n",
       "      <td>13192</td>\n",
       "      <td>13192</td>\n",
       "      <td>13192</td>\n",
       "      <td>13192</td>\n",
       "    </tr>\n",
       "    <tr>\n",
       "      <th>,</th>\n",
       "      <td>54797</td>\n",
       "      <td>54797</td>\n",
       "      <td>54797</td>\n",
       "      <td>54797</td>\n",
       "      <td>54797</td>\n",
       "      <td>54797</td>\n",
       "      <td>54797</td>\n",
       "      <td>54797</td>\n",
       "      <td>54797</td>\n",
       "      <td>54797</td>\n",
       "    </tr>\n",
       "    <tr>\n",
       "      <th>-</th>\n",
       "      <td>4492</td>\n",
       "      <td>4492</td>\n",
       "      <td>4492</td>\n",
       "      <td>4492</td>\n",
       "      <td>4492</td>\n",
       "      <td>4492</td>\n",
       "      <td>4492</td>\n",
       "      <td>4492</td>\n",
       "      <td>4492</td>\n",
       "      <td>4492</td>\n",
       "    </tr>\n",
       "    <tr>\n",
       "      <th>.</th>\n",
       "      <td>67797</td>\n",
       "      <td>67797</td>\n",
       "      <td>67797</td>\n",
       "      <td>67797</td>\n",
       "      <td>67797</td>\n",
       "      <td>67797</td>\n",
       "      <td>67797</td>\n",
       "      <td>67797</td>\n",
       "      <td>67797</td>\n",
       "      <td>67797</td>\n",
       "    </tr>\n",
       "    <tr>\n",
       "      <th>/</th>\n",
       "      <td>1354</td>\n",
       "      <td>1354</td>\n",
       "      <td>1354</td>\n",
       "      <td>1354</td>\n",
       "      <td>1354</td>\n",
       "      <td>1354</td>\n",
       "      <td>1354</td>\n",
       "      <td>1354</td>\n",
       "      <td>1354</td>\n",
       "      <td>1354</td>\n",
       "    </tr>\n",
       "    <tr>\n",
       "      <th>;</th>\n",
       "      <td>2905</td>\n",
       "      <td>2905</td>\n",
       "      <td>2905</td>\n",
       "      <td>2905</td>\n",
       "      <td>2905</td>\n",
       "      <td>2905</td>\n",
       "      <td>2905</td>\n",
       "      <td>2905</td>\n",
       "      <td>2905</td>\n",
       "      <td>2905</td>\n",
       "    </tr>\n",
       "    <tr>\n",
       "      <th>=</th>\n",
       "      <td>2288</td>\n",
       "      <td>2288</td>\n",
       "      <td>2288</td>\n",
       "      <td>2288</td>\n",
       "      <td>2288</td>\n",
       "      <td>2288</td>\n",
       "      <td>2288</td>\n",
       "      <td>2288</td>\n",
       "      <td>2288</td>\n",
       "      <td>2288</td>\n",
       "    </tr>\n",
       "    <tr>\n",
       "      <th>?</th>\n",
       "      <td>3507</td>\n",
       "      <td>3507</td>\n",
       "      <td>3507</td>\n",
       "      <td>3507</td>\n",
       "      <td>3507</td>\n",
       "      <td>3507</td>\n",
       "      <td>3507</td>\n",
       "      <td>3507</td>\n",
       "      <td>3507</td>\n",
       "      <td>3507</td>\n",
       "    </tr>\n",
       "    <tr>\n",
       "      <th>NoChange</th>\n",
       "      <td>703851</td>\n",
       "      <td>703851</td>\n",
       "      <td>703851</td>\n",
       "      <td>703851</td>\n",
       "      <td>703851</td>\n",
       "      <td>703851</td>\n",
       "      <td>703851</td>\n",
       "      <td>703851</td>\n",
       "      <td>703851</td>\n",
       "      <td>703851</td>\n",
       "    </tr>\n",
       "    <tr>\n",
       "      <th>\\</th>\n",
       "      <td>1100</td>\n",
       "      <td>1100</td>\n",
       "      <td>1100</td>\n",
       "      <td>1100</td>\n",
       "      <td>1100</td>\n",
       "      <td>1100</td>\n",
       "      <td>1100</td>\n",
       "      <td>1100</td>\n",
       "      <td>1100</td>\n",
       "      <td>1100</td>\n",
       "    </tr>\n",
       "    <tr>\n",
       "      <th>q</th>\n",
       "      <td>6128208</td>\n",
       "      <td>6128208</td>\n",
       "      <td>6128208</td>\n",
       "      <td>6128208</td>\n",
       "      <td>6128208</td>\n",
       "      <td>6128208</td>\n",
       "      <td>6128208</td>\n",
       "      <td>6128208</td>\n",
       "      <td>6128208</td>\n",
       "      <td>6128208</td>\n",
       "    </tr>\n",
       "  </tbody>\n",
       "</table>\n",
       "</div>"
      ],
      "text/plain": [
       "                  id  event_id  down_time  up_time  action_time  activity  \\\n",
       "text_change                                                                 \n",
       "\\n             27977     27977      27977    27977        27977     27977   \n",
       "             1376829   1376829    1376829  1376829      1376829   1376829   \n",
       "\"               4659      4659       4659     4659         4659      4659   \n",
       "'              13192     13192      13192    13192        13192     13192   \n",
       ",              54797     54797      54797    54797        54797     54797   \n",
       "-               4492      4492       4492     4492         4492      4492   \n",
       ".              67797     67797      67797    67797        67797     67797   \n",
       "/               1354      1354       1354     1354         1354      1354   \n",
       ";               2905      2905       2905     2905         2905      2905   \n",
       "=               2288      2288       2288     2288         2288      2288   \n",
       "?               3507      3507       3507     3507         3507      3507   \n",
       "NoChange      703851    703851     703851   703851       703851    703851   \n",
       "\\               1100      1100       1100     1100         1100      1100   \n",
       "q            6128208   6128208    6128208  6128208      6128208   6128208   \n",
       "\n",
       "             down_event  up_event  cursor_position  word_count  \n",
       "text_change                                                     \n",
       "\\n                27977     27977            27977       27977  \n",
       "                1376829   1376829          1376829     1376829  \n",
       "\"                  4659      4659             4659        4659  \n",
       "'                 13192     13192            13192       13192  \n",
       ",                 54797     54797            54797       54797  \n",
       "-                  4492      4492             4492        4492  \n",
       ".                 67797     67797            67797       67797  \n",
       "/                  1354      1354             1354        1354  \n",
       ";                  2905      2905             2905        2905  \n",
       "=                  2288      2288             2288        2288  \n",
       "?                  3507      3507             3507        3507  \n",
       "NoChange         703851    703851           703851      703851  \n",
       "\\                  1100      1100             1100        1100  \n",
       "q               6128208   6128208          6128208     6128208  "
      ]
     },
     "execution_count": 8,
     "metadata": {},
     "output_type": "execute_result"
    }
   ],
   "source": [
    "temp = df.groupby(by=\"text_change\").count()\n",
    "temp[temp['id']>1000]"
   ]
  },
  {
   "cell_type": "code",
   "execution_count": 16,
   "id": "2f155aea",
   "metadata": {},
   "outputs": [
    {
     "data": {
      "text/plain": [
       "<Axes: xlabel='word_count', ylabel='count'>"
      ]
     },
     "execution_count": 16,
     "metadata": {},
     "output_type": "execute_result"
    },
    {
     "data": {
      "image/png": "[encoded data removed]",
      "text/plain": [
       "<Figure size 640x480 with 1 Axes>"
      ]
     },
     "metadata": {},
     "output_type": "display_data"
    }
   ],
   "source": [
    "sns.countplot(data=df, x = df[\"word_count\"])\n",
    "#chujowo jest to zrobione, popraw żeby dół działał jak będziesz mieć czas, pewnie ogólnie można innym plotem to zrobić też"
   ]
  },
  {
   "cell_type": "code",
   "execution_count": 18,
   "id": "3cea33e4",
   "metadata": {},
   "outputs": [
    {
     "data": {
      "text/plain": [
       "<Axes: xlabel='activity', ylabel='count'>"
      ]
     },
     "execution_count": 18,
     "metadata": {},
     "output_type": "execute_result"
    },
    {
     "data": {
      "image/png": "[encoded data removed]",
      "text/plain": [
       "<Figure size 640x480 with 1 Axes>"
      ]
     },
     "metadata": {},
     "output_type": "display_data"
    }
   ],
   "source": [
    "sns.countplot(data=df, x = df[\"activity\"])\n",
    "#ten sam problem co wyżej, ale i tak to pokazuje, że jakiejs aktywności jest o wiele więcej"
   ]
  },
  {
   "cell_type": "code",
   "execution_count": 20,
   "id": "a692b1c0",
   "metadata": {},
   "outputs": [
    {
     "data": {
      "text/plain": [
       "<Axes: xlabel='up_event', ylabel='count'>"
      ]
     },
     "execution_count": 20,
     "metadata": {},
     "output_type": "execute_result"
    },
    {
     "name": "stderr",
     "output_type": "stream",
     "text": [
      "D:\\anaconda\\lib\\site-packages\\IPython\\core\\events.py:93: UserWarning: Glyph 150 (\\x96) missing from current font.\n",
      "  func(*args, **kwargs)\n",
      "D:\\anaconda\\lib\\site-packages\\IPython\\core\\events.py:93: UserWarning: Glyph 155 (\\x9b) missing from current font.\n",
      "  func(*args, **kwargs)\n",
      "D:\\anaconda\\lib\\site-packages\\IPython\\core\\events.py:93: UserWarning: Glyph 128 (\\x80) missing from current font.\n",
      "  func(*args, **kwargs)\n",
      "D:\\anaconda\\lib\\site-packages\\IPython\\core\\events.py:93: UserWarning: Glyph 147 (\\x93) missing from current font.\n",
      "  func(*args, **kwargs)\n",
      "D:\\anaconda\\lib\\site-packages\\IPython\\core\\events.py:93: UserWarning: Glyph 151 (\\x97) missing from current font.\n",
      "  func(*args, **kwargs)\n",
      "D:\\anaconda\\lib\\site-packages\\IPython\\core\\events.py:93: UserWarning: Glyph 134 (\\x86) missing from current font.\n",
      "  func(*args, **kwargs)\n",
      "D:\\anaconda\\lib\\site-packages\\IPython\\core\\events.py:93: UserWarning: Glyph 159 (\\x9f) missing from current font.\n",
      "  func(*args, **kwargs)\n",
      "D:\\anaconda\\lib\\site-packages\\IPython\\core\\pylabtools.py:152: UserWarning: Glyph 150 (\\x96) missing from current font.\n",
      "  fig.canvas.print_figure(bytes_io, **kw)\n",
      "D:\\anaconda\\lib\\site-packages\\IPython\\core\\pylabtools.py:152: UserWarning: Glyph 155 (\\x9b) missing from current font.\n",
      "  fig.canvas.print_figure(bytes_io, **kw)\n",
      "D:\\anaconda\\lib\\site-packages\\IPython\\core\\pylabtools.py:152: UserWarning: Glyph 128 (\\x80) missing from current font.\n",
      "  fig.canvas.print_figure(bytes_io, **kw)\n",
      "D:\\anaconda\\lib\\site-packages\\IPython\\core\\pylabtools.py:152: UserWarning: Glyph 147 (\\x93) missing from current font.\n",
      "  fig.canvas.print_figure(bytes_io, **kw)\n",
      "D:\\anaconda\\lib\\site-packages\\IPython\\core\\pylabtools.py:152: UserWarning: Glyph 151 (\\x97) missing from current font.\n",
      "  fig.canvas.print_figure(bytes_io, **kw)\n",
      "D:\\anaconda\\lib\\site-packages\\IPython\\core\\pylabtools.py:152: UserWarning: Glyph 134 (\\x86) missing from current font.\n",
      "  fig.canvas.print_figure(bytes_io, **kw)\n",
      "D:\\anaconda\\lib\\site-packages\\IPython\\core\\pylabtools.py:152: UserWarning: Glyph 159 (\\x9f) missing from current font.\n",
      "  fig.canvas.print_figure(bytes_io, **kw)\n"
     ]
    },
    {
     "data": {
      "image/png": "[encoded data removed]",
      "text/plain": [
       "<Figure size 640x480 with 1 Axes>"
      ]
     },
     "metadata": {},
     "output_type": "display_data"
    }
   ],
   "source": [
    "sns.countplot(data=df, x = df[\"up_event\"])"
   ]
  },
  {
   "cell_type": "code",
   "execution_count": 6,
   "id": "9be6de60",
   "metadata": {},
   "outputs": [
    {
     "ename": "NameError",
     "evalue": "name 'df' is not defined",
     "output_type": "error",
     "traceback": [
      "\u001b[1;31m---------------------------------------------------------------------------\u001b[0m",
      "\u001b[1;31mNameError\u001b[0m                                 Traceback (most recent call last)",
      "Cell \u001b[1;32mIn[6], line 1\u001b[0m\n\u001b[1;32m----> 1\u001b[0m temp \u001b[38;5;241m=\u001b[39m df\u001b[38;5;241m.\u001b[39mgroupby(by\u001b[38;5;241m=\u001b[39m\u001b[38;5;124m\"\u001b[39m\u001b[38;5;124mactivity\u001b[39m\u001b[38;5;124m\"\u001b[39m)\u001b[38;5;241m.\u001b[39mcount()\n",
      "\u001b[1;31mNameError\u001b[0m: name 'df' is not defined"
     ]
    }
   ],
   "source": [
    "temp = df.groupby(by=\"activity\").count()"
   ]
  },
  {
   "cell_type": "code",
   "execution_count": 5,
   "id": "9a97f499",
   "metadata": {},
   "outputs": [
    {
     "ename": "NameError",
     "evalue": "name 'temp' is not defined",
     "output_type": "error",
     "traceback": [
      "\u001b[1;31m---------------------------------------------------------------------------\u001b[0m",
      "\u001b[1;31mNameError\u001b[0m                                 Traceback (most recent call last)",
      "Cell \u001b[1;32mIn[5], line 1\u001b[0m\n\u001b[1;32m----> 1\u001b[0m temp[temp[\u001b[38;5;124m'\u001b[39m\u001b[38;5;124mid\u001b[39m\u001b[38;5;124m'\u001b[39m]]\n",
      "\u001b[1;31mNameError\u001b[0m: name 'temp' is not defined"
     ]
    }
   ],
   "source": [
    "temp[temp['id']]"
   ]
  },
  {
   "cell_type": "code",
   "execution_count": 26,
   "id": "b84d4a39",
   "metadata": {},
   "outputs": [],
   "source": [
    "temp = df.groupby(by=\"up_event\").count()"
   ]
  },
  {
   "cell_type": "code",
   "execution_count": 28,
   "id": "dd135dd1",
   "metadata": {},
   "outputs": [
    {
     "data": {
      "text/plain": [
       "id                 5364789\n",
       "event_id           5364789\n",
       "down_time          5364789\n",
       "up_time            5364789\n",
       "action_time        5364789\n",
       "activity           5364789\n",
       "down_event         5364789\n",
       "text_change        5364789\n",
       "cursor_position    5364789\n",
       "word_count         5364789\n",
       "dtype: int64"
      ]
     },
     "execution_count": 28,
     "metadata": {},
     "output_type": "execute_result"
    }
   ],
   "source": [
    "temp.max()"
   ]
  },
  {
   "cell_type": "code",
   "execution_count": 30,
   "id": "d082499b",
   "metadata": {
    "scrolled": false
   },
   "outputs": [
    {
     "data": {
      "text/html": [
       "<div>\n",
       "<style scoped>\n",
       "    .dataframe tbody tr th:only-of-type {\n",
       "        vertical-align: middle;\n",
       "    }\n",
       "\n",
       "    .dataframe tbody tr th {\n",
       "        vertical-align: top;\n",
       "    }\n",
       "\n",
       "    .dataframe thead th {\n",
       "        text-align: right;\n",
       "    }\n",
       "</style>\n",
       "<table border=\"1\" class=\"dataframe\">\n",
       "  <thead>\n",
       "    <tr style=\"text-align: right;\">\n",
       "      <th></th>\n",
       "      <th>id</th>\n",
       "      <th>event_id</th>\n",
       "      <th>down_time</th>\n",
       "      <th>up_time</th>\n",
       "      <th>action_time</th>\n",
       "      <th>activity</th>\n",
       "      <th>down_event</th>\n",
       "      <th>text_change</th>\n",
       "      <th>cursor_position</th>\n",
       "      <th>word_count</th>\n",
       "    </tr>\n",
       "    <tr>\n",
       "      <th>up_event</th>\n",
       "      <th></th>\n",
       "      <th></th>\n",
       "      <th></th>\n",
       "      <th></th>\n",
       "      <th></th>\n",
       "      <th></th>\n",
       "      <th></th>\n",
       "      <th></th>\n",
       "      <th></th>\n",
       "      <th></th>\n",
       "    </tr>\n",
       "  </thead>\n",
       "  <tbody>\n",
       "    <tr>\n",
       "      <th>'</th>\n",
       "      <td>11170</td>\n",
       "      <td>11170</td>\n",
       "      <td>11170</td>\n",
       "      <td>11170</td>\n",
       "      <td>11170</td>\n",
       "      <td>11170</td>\n",
       "      <td>11170</td>\n",
       "      <td>11170</td>\n",
       "      <td>11170</td>\n",
       "      <td>11170</td>\n",
       "    </tr>\n",
       "    <tr>\n",
       "      <th>,</th>\n",
       "      <td>46806</td>\n",
       "      <td>46806</td>\n",
       "      <td>46806</td>\n",
       "      <td>46806</td>\n",
       "      <td>46806</td>\n",
       "      <td>46806</td>\n",
       "      <td>46806</td>\n",
       "      <td>46806</td>\n",
       "      <td>46806</td>\n",
       "      <td>46806</td>\n",
       "    </tr>\n",
       "    <tr>\n",
       "      <th>.</th>\n",
       "      <td>59586</td>\n",
       "      <td>59586</td>\n",
       "      <td>59586</td>\n",
       "      <td>59586</td>\n",
       "      <td>59586</td>\n",
       "      <td>59586</td>\n",
       "      <td>59586</td>\n",
       "      <td>59586</td>\n",
       "      <td>59586</td>\n",
       "      <td>59586</td>\n",
       "    </tr>\n",
       "    <tr>\n",
       "      <th>ArrowDown</th>\n",
       "      <td>30874</td>\n",
       "      <td>30874</td>\n",
       "      <td>30874</td>\n",
       "      <td>30874</td>\n",
       "      <td>30874</td>\n",
       "      <td>30874</td>\n",
       "      <td>30874</td>\n",
       "      <td>30874</td>\n",
       "      <td>30874</td>\n",
       "      <td>30874</td>\n",
       "    </tr>\n",
       "    <tr>\n",
       "      <th>ArrowLeft</th>\n",
       "      <td>63217</td>\n",
       "      <td>63217</td>\n",
       "      <td>63217</td>\n",
       "      <td>63217</td>\n",
       "      <td>63217</td>\n",
       "      <td>63217</td>\n",
       "      <td>63217</td>\n",
       "      <td>63217</td>\n",
       "      <td>63217</td>\n",
       "      <td>63217</td>\n",
       "    </tr>\n",
       "    <tr>\n",
       "      <th>ArrowRight</th>\n",
       "      <td>121338</td>\n",
       "      <td>121338</td>\n",
       "      <td>121338</td>\n",
       "      <td>121338</td>\n",
       "      <td>121338</td>\n",
       "      <td>121338</td>\n",
       "      <td>121338</td>\n",
       "      <td>121338</td>\n",
       "      <td>121338</td>\n",
       "      <td>121338</td>\n",
       "    </tr>\n",
       "    <tr>\n",
       "      <th>ArrowUp</th>\n",
       "      <td>28189</td>\n",
       "      <td>28189</td>\n",
       "      <td>28189</td>\n",
       "      <td>28189</td>\n",
       "      <td>28189</td>\n",
       "      <td>28189</td>\n",
       "      <td>28189</td>\n",
       "      <td>28189</td>\n",
       "      <td>28189</td>\n",
       "      <td>28189</td>\n",
       "    </tr>\n",
       "    <tr>\n",
       "      <th>Backspace</th>\n",
       "      <td>964089</td>\n",
       "      <td>964089</td>\n",
       "      <td>964089</td>\n",
       "      <td>964089</td>\n",
       "      <td>964089</td>\n",
       "      <td>964089</td>\n",
       "      <td>964089</td>\n",
       "      <td>964089</td>\n",
       "      <td>964089</td>\n",
       "      <td>964089</td>\n",
       "    </tr>\n",
       "    <tr>\n",
       "      <th>CapsLock</th>\n",
       "      <td>12568</td>\n",
       "      <td>12568</td>\n",
       "      <td>12568</td>\n",
       "      <td>12568</td>\n",
       "      <td>12568</td>\n",
       "      <td>12568</td>\n",
       "      <td>12568</td>\n",
       "      <td>12568</td>\n",
       "      <td>12568</td>\n",
       "      <td>12568</td>\n",
       "    </tr>\n",
       "    <tr>\n",
       "      <th>Delete</th>\n",
       "      <td>10965</td>\n",
       "      <td>10965</td>\n",
       "      <td>10965</td>\n",
       "      <td>10965</td>\n",
       "      <td>10965</td>\n",
       "      <td>10965</td>\n",
       "      <td>10965</td>\n",
       "      <td>10965</td>\n",
       "      <td>10965</td>\n",
       "      <td>10965</td>\n",
       "    </tr>\n",
       "    <tr>\n",
       "      <th>Enter</th>\n",
       "      <td>22689</td>\n",
       "      <td>22689</td>\n",
       "      <td>22689</td>\n",
       "      <td>22689</td>\n",
       "      <td>22689</td>\n",
       "      <td>22689</td>\n",
       "      <td>22689</td>\n",
       "      <td>22689</td>\n",
       "      <td>22689</td>\n",
       "      <td>22689</td>\n",
       "    </tr>\n",
       "    <tr>\n",
       "      <th>Leftclick</th>\n",
       "      <td>91126</td>\n",
       "      <td>91126</td>\n",
       "      <td>91126</td>\n",
       "      <td>91126</td>\n",
       "      <td>91126</td>\n",
       "      <td>91126</td>\n",
       "      <td>91126</td>\n",
       "      <td>91126</td>\n",
       "      <td>91126</td>\n",
       "      <td>91126</td>\n",
       "    </tr>\n",
       "    <tr>\n",
       "      <th>Shift</th>\n",
       "      <td>334227</td>\n",
       "      <td>334227</td>\n",
       "      <td>334227</td>\n",
       "      <td>334227</td>\n",
       "      <td>334227</td>\n",
       "      <td>334227</td>\n",
       "      <td>334227</td>\n",
       "      <td>334227</td>\n",
       "      <td>334227</td>\n",
       "      <td>334227</td>\n",
       "    </tr>\n",
       "    <tr>\n",
       "      <th>Space</th>\n",
       "      <td>1207128</td>\n",
       "      <td>1207128</td>\n",
       "      <td>1207128</td>\n",
       "      <td>1207128</td>\n",
       "      <td>1207128</td>\n",
       "      <td>1207128</td>\n",
       "      <td>1207128</td>\n",
       "      <td>1207128</td>\n",
       "      <td>1207128</td>\n",
       "      <td>1207128</td>\n",
       "    </tr>\n",
       "    <tr>\n",
       "      <th>q</th>\n",
       "      <td>5364789</td>\n",
       "      <td>5364789</td>\n",
       "      <td>5364789</td>\n",
       "      <td>5364789</td>\n",
       "      <td>5364789</td>\n",
       "      <td>5364789</td>\n",
       "      <td>5364789</td>\n",
       "      <td>5364789</td>\n",
       "      <td>5364789</td>\n",
       "      <td>5364789</td>\n",
       "    </tr>\n",
       "  </tbody>\n",
       "</table>\n",
       "</div>"
      ],
      "text/plain": [
       "                 id  event_id  down_time  up_time  action_time  activity  \\\n",
       "up_event                                                                   \n",
       "'             11170     11170      11170    11170        11170     11170   \n",
       ",             46806     46806      46806    46806        46806     46806   \n",
       ".             59586     59586      59586    59586        59586     59586   \n",
       "ArrowDown     30874     30874      30874    30874        30874     30874   \n",
       "ArrowLeft     63217     63217      63217    63217        63217     63217   \n",
       "ArrowRight   121338    121338     121338   121338       121338    121338   \n",
       "ArrowUp       28189     28189      28189    28189        28189     28189   \n",
       "Backspace    964089    964089     964089   964089       964089    964089   \n",
       "CapsLock      12568     12568      12568    12568        12568     12568   \n",
       "Delete        10965     10965      10965    10965        10965     10965   \n",
       "Enter         22689     22689      22689    22689        22689     22689   \n",
       "Leftclick     91126     91126      91126    91126        91126     91126   \n",
       "Shift        334227    334227     334227   334227       334227    334227   \n",
       "Space       1207128   1207128    1207128  1207128      1207128   1207128   \n",
       "q           5364789   5364789    5364789  5364789      5364789   5364789   \n",
       "\n",
       "            down_event  text_change  cursor_position  word_count  \n",
       "up_event                                                          \n",
       "'                11170        11170            11170       11170  \n",
       ",                46806        46806            46806       46806  \n",
       ".                59586        59586            59586       59586  \n",
       "ArrowDown        30874        30874            30874       30874  \n",
       "ArrowLeft        63217        63217            63217       63217  \n",
       "ArrowRight      121338       121338           121338      121338  \n",
       "ArrowUp          28189        28189            28189       28189  \n",
       "Backspace       964089       964089           964089      964089  \n",
       "CapsLock         12568        12568            12568       12568  \n",
       "Delete           10965        10965            10965       10965  \n",
       "Enter            22689        22689            22689       22689  \n",
       "Leftclick        91126        91126            91126       91126  \n",
       "Shift           334227       334227           334227      334227  \n",
       "Space          1207128      1207128          1207128     1207128  \n",
       "q              5364789      5364789          5364789     5364789  "
      ]
     },
     "execution_count": 30,
     "metadata": {},
     "output_type": "execute_result"
    }
   ],
   "source": [
    "temp[temp[\"id\"] > 10000]"
   ]
  },
  {
   "cell_type": "code",
   "execution_count": 32,
   "id": "14efac1a",
   "metadata": {
    "scrolled": true
   },
   "outputs": [
    {
     "data": {
      "text/plain": [
       "False"
      ]
     },
     "execution_count": 32,
     "metadata": {},
     "output_type": "execute_result"
    }
   ],
   "source": [
    "df.isnull().values.any()"
   ]
  },
  {
   "cell_type": "code",
   "execution_count": 40,
   "id": "54954e71",
   "metadata": {},
   "outputs": [
    {
     "data": {
      "text/plain": [
       "id                 0\n",
       "event_id           0\n",
       "down_time          0\n",
       "up_time            0\n",
       "action_time        0\n",
       "activity           0\n",
       "down_event         0\n",
       "up_event           0\n",
       "text_change        0\n",
       "cursor_position    0\n",
       "word_count         0\n",
       "dtype: int64"
      ]
     },
     "execution_count": 40,
     "metadata": {},
     "output_type": "execute_result"
    }
   ],
   "source": [
    "df[df['activity'] == \"input\"].count()"
   ]
  },
  {
   "cell_type": "code",
   "execution_count": 80,
   "id": "aa6911b6",
   "metadata": {},
   "outputs": [
    {
     "name": "stdout",
     "output_type": "stream",
     "text": [
      "iteration: 2564452\n"
     ]
    }
   ],
   "source": [
    "#checking how often up_event differentiates from down_event, if difference is not statistically significant, then we should \n",
    "#delete one of the columns\n",
    "from IPython.display import clear_output\n",
    "i = 0\n",
    "counter = 0\n",
    "while(i<len(df['down_event'])):\n",
    "    print('iteration:', i)\n",
    "    i+=1\n",
    "    if(df['down_event'][i] != df['up_event'][i]):\n",
    "        counter +=1\n",
    "        print('counter:', counter)\n",
    "    clear_output(wait=True) \n",
    "print('counter:', counter)"
   ]
  },
  {
   "cell_type": "code",
   "execution_count": 3,
   "id": "033f4257",
   "metadata": {},
   "outputs": [
    {
     "data": {
      "text/html": [
       "<div>\n",
       "<style scoped>\n",
       "    .dataframe tbody tr th:only-of-type {\n",
       "        vertical-align: middle;\n",
       "    }\n",
       "\n",
       "    .dataframe tbody tr th {\n",
       "        vertical-align: top;\n",
       "    }\n",
       "\n",
       "    .dataframe thead th {\n",
       "        text-align: right;\n",
       "    }\n",
       "</style>\n",
       "<table border=\"1\" class=\"dataframe\">\n",
       "  <thead>\n",
       "    <tr style=\"text-align: right;\">\n",
       "      <th></th>\n",
       "      <th>id</th>\n",
       "      <th>down_time</th>\n",
       "      <th>up_time</th>\n",
       "      <th>action_time</th>\n",
       "      <th>activity</th>\n",
       "      <th>down_event</th>\n",
       "      <th>up_event</th>\n",
       "      <th>text_change</th>\n",
       "      <th>cursor_position</th>\n",
       "      <th>word_count</th>\n",
       "    </tr>\n",
       "  </thead>\n",
       "  <tbody>\n",
       "    <tr>\n",
       "      <th>0</th>\n",
       "      <td>001519c8</td>\n",
       "      <td>4526</td>\n",
       "      <td>4557</td>\n",
       "      <td>31</td>\n",
       "      <td>Nonproduction</td>\n",
       "      <td>Leftclick</td>\n",
       "      <td>Leftclick</td>\n",
       "      <td>NoChange</td>\n",
       "      <td>0</td>\n",
       "      <td>0</td>\n",
       "    </tr>\n",
       "    <tr>\n",
       "      <th>1</th>\n",
       "      <td>001519c8</td>\n",
       "      <td>4558</td>\n",
       "      <td>4962</td>\n",
       "      <td>404</td>\n",
       "      <td>Nonproduction</td>\n",
       "      <td>Leftclick</td>\n",
       "      <td>Leftclick</td>\n",
       "      <td>NoChange</td>\n",
       "      <td>0</td>\n",
       "      <td>0</td>\n",
       "    </tr>\n",
       "    <tr>\n",
       "      <th>2</th>\n",
       "      <td>001519c8</td>\n",
       "      <td>106571</td>\n",
       "      <td>106571</td>\n",
       "      <td>0</td>\n",
       "      <td>Nonproduction</td>\n",
       "      <td>Shift</td>\n",
       "      <td>Shift</td>\n",
       "      <td>NoChange</td>\n",
       "      <td>0</td>\n",
       "      <td>0</td>\n",
       "    </tr>\n",
       "    <tr>\n",
       "      <th>3</th>\n",
       "      <td>001519c8</td>\n",
       "      <td>106686</td>\n",
       "      <td>106777</td>\n",
       "      <td>91</td>\n",
       "      <td>Input</td>\n",
       "      <td>q</td>\n",
       "      <td>q</td>\n",
       "      <td>q</td>\n",
       "      <td>1</td>\n",
       "      <td>1</td>\n",
       "    </tr>\n",
       "    <tr>\n",
       "      <th>4</th>\n",
       "      <td>001519c8</td>\n",
       "      <td>107196</td>\n",
       "      <td>107323</td>\n",
       "      <td>127</td>\n",
       "      <td>Input</td>\n",
       "      <td>q</td>\n",
       "      <td>q</td>\n",
       "      <td>q</td>\n",
       "      <td>2</td>\n",
       "      <td>1</td>\n",
       "    </tr>\n",
       "    <tr>\n",
       "      <th>...</th>\n",
       "      <td>...</td>\n",
       "      <td>...</td>\n",
       "      <td>...</td>\n",
       "      <td>...</td>\n",
       "      <td>...</td>\n",
       "      <td>...</td>\n",
       "      <td>...</td>\n",
       "      <td>...</td>\n",
       "      <td>...</td>\n",
       "      <td>...</td>\n",
       "    </tr>\n",
       "    <tr>\n",
       "      <th>8405893</th>\n",
       "      <td>fff05981</td>\n",
       "      <td>2063944</td>\n",
       "      <td>2064440</td>\n",
       "      <td>496</td>\n",
       "      <td>Nonproduction</td>\n",
       "      <td>Leftclick</td>\n",
       "      <td>Leftclick</td>\n",
       "      <td>NoChange</td>\n",
       "      <td>1031</td>\n",
       "      <td>240</td>\n",
       "    </tr>\n",
       "    <tr>\n",
       "      <th>8405894</th>\n",
       "      <td>fff05981</td>\n",
       "      <td>2064497</td>\n",
       "      <td>2064497</td>\n",
       "      <td>0</td>\n",
       "      <td>Nonproduction</td>\n",
       "      <td>Shift</td>\n",
       "      <td>Shift</td>\n",
       "      <td>NoChange</td>\n",
       "      <td>1031</td>\n",
       "      <td>240</td>\n",
       "    </tr>\n",
       "    <tr>\n",
       "      <th>8405895</th>\n",
       "      <td>fff05981</td>\n",
       "      <td>2064657</td>\n",
       "      <td>2064765</td>\n",
       "      <td>108</td>\n",
       "      <td>Replace</td>\n",
       "      <td>q</td>\n",
       "      <td>q</td>\n",
       "      <td>q =&gt; q</td>\n",
       "      <td>1031</td>\n",
       "      <td>240</td>\n",
       "    </tr>\n",
       "    <tr>\n",
       "      <th>8405896</th>\n",
       "      <td>fff05981</td>\n",
       "      <td>2069186</td>\n",
       "      <td>2069259</td>\n",
       "      <td>73</td>\n",
       "      <td>Nonproduction</td>\n",
       "      <td>Leftclick</td>\n",
       "      <td>Leftclick</td>\n",
       "      <td>NoChange</td>\n",
       "      <td>1028</td>\n",
       "      <td>240</td>\n",
       "    </tr>\n",
       "    <tr>\n",
       "      <th>8405897</th>\n",
       "      <td>fff05981</td>\n",
       "      <td>2070065</td>\n",
       "      <td>2070133</td>\n",
       "      <td>68</td>\n",
       "      <td>Input</td>\n",
       "      <td>.</td>\n",
       "      <td>.</td>\n",
       "      <td>.</td>\n",
       "      <td>1029</td>\n",
       "      <td>240</td>\n",
       "    </tr>\n",
       "  </tbody>\n",
       "</table>\n",
       "<p>8405898 rows × 10 columns</p>\n",
       "</div>"
      ],
      "text/plain": [
       "               id  down_time  up_time  action_time       activity down_event  \\\n",
       "0        001519c8       4526     4557           31  Nonproduction  Leftclick   \n",
       "1        001519c8       4558     4962          404  Nonproduction  Leftclick   \n",
       "2        001519c8     106571   106571            0  Nonproduction      Shift   \n",
       "3        001519c8     106686   106777           91          Input          q   \n",
       "4        001519c8     107196   107323          127          Input          q   \n",
       "...           ...        ...      ...          ...            ...        ...   \n",
       "8405893  fff05981    2063944  2064440          496  Nonproduction  Leftclick   \n",
       "8405894  fff05981    2064497  2064497            0  Nonproduction      Shift   \n",
       "8405895  fff05981    2064657  2064765          108        Replace          q   \n",
       "8405896  fff05981    2069186  2069259           73  Nonproduction  Leftclick   \n",
       "8405897  fff05981    2070065  2070133           68          Input          .   \n",
       "\n",
       "          up_event text_change  cursor_position  word_count  \n",
       "0        Leftclick    NoChange                0           0  \n",
       "1        Leftclick    NoChange                0           0  \n",
       "2            Shift    NoChange                0           0  \n",
       "3                q           q                1           1  \n",
       "4                q           q                2           1  \n",
       "...            ...         ...              ...         ...  \n",
       "8405893  Leftclick    NoChange             1031         240  \n",
       "8405894      Shift    NoChange             1031         240  \n",
       "8405895          q      q => q             1031         240  \n",
       "8405896  Leftclick    NoChange             1028         240  \n",
       "8405897          .           .             1029         240  \n",
       "\n",
       "[8405898 rows x 10 columns]"
      ]
     },
     "execution_count": 3,
     "metadata": {},
     "output_type": "execute_result"
    }
   ],
   "source": [
    "df.drop('down_event', axis = 1)\n",
    "df.drop('event_id', axis = 1)"
   ]
  },
  {
   "cell_type": "markdown",
   "id": "e4af2173",
   "metadata": {},
   "source": [
    "### Defining X and Y"
   ]
  },
  {
   "cell_type": "code",
   "execution_count": 159,
   "id": "64eab08b",
   "metadata": {
    "scrolled": false
   },
   "outputs": [],
   "source": [
    "#we need to group by the data by id and make the columns into counts, maxes and means of the data, so the standard alghoritms could \n",
    "#train on it\n",
    "X = df[['id', 'action_time','down_time']]\n",
    "X = X.groupby(['id']).mean()\n",
    "X.rename(columns = {'action_time':'mean_action_time'}, inplace = True)"
   ]
  },
  {
   "cell_type": "code",
   "execution_count": 160,
   "id": "5c99b1a8",
   "metadata": {},
   "outputs": [],
   "source": [
    "X = X.join(df[['id', 'word_count']].groupby(['id']).max())"
   ]
  },
  {
   "cell_type": "code",
   "execution_count": 161,
   "id": "de7933a6",
   "metadata": {},
   "outputs": [],
   "source": [
    "def group_by_count(df, X, column, value, name):\n",
    "    temp = df[['id', column]]\n",
    "    temp = temp[temp[column] == value] \n",
    "    X = X.join(temp.groupby(['id']).count())\n",
    "    X.rename(columns = {column:name}, inplace = True)\n",
    "    return X"
   ]
  },
  {
   "cell_type": "code",
   "execution_count": 162,
   "id": "b5209f88",
   "metadata": {
    "scrolled": false
   },
   "outputs": [],
   "source": [
    "X = group_by_count(df,X, 'text_change', ',', 'coma_count')\n",
    "X = group_by_count(df,X, 'activity', 'Input', 'Input_count')\n",
    "X = group_by_count(df,X, 'activity', 'Nonproduction', 'Nonprod_count')\n",
    "X = group_by_count(df,X, 'activity', 'Remove/Cut', 'cut_count')\n",
    "X = group_by_count(df,X, 'activity', 'Replace', 'Replace_count')\n",
    "X = group_by_count(df,X, 'text_change', '.', 'dot_count')\n",
    "X = group_by_count(df,X, 'text_change', 'q', 'q_count')\n",
    "X = group_by_count(df,X, 'text_change', 'NoChange', 'no_change_count')\n",
    "X = group_by_count(df,X, 'text_change', ' ', 'space_count')\n",
    "X = group_by_count(df,X, 'up_event', 'Backspace', 'Backspace_count')\n",
    "X = group_by_count(df,X, 'up_event', 'Shift', 'Shift_count')"
   ]
  },
  {
   "cell_type": "code",
   "execution_count": 163,
   "id": "e5c8685a",
   "metadata": {},
   "outputs": [
    {
     "data": {
      "text/html": [
       "<div>\n",
       "<style scoped>\n",
       "    .dataframe tbody tr th:only-of-type {\n",
       "        vertical-align: middle;\n",
       "    }\n",
       "\n",
       "    .dataframe tbody tr th {\n",
       "        vertical-align: top;\n",
       "    }\n",
       "\n",
       "    .dataframe thead th {\n",
       "        text-align: right;\n",
       "    }\n",
       "</style>\n",
       "<table border=\"1\" class=\"dataframe\">\n",
       "  <thead>\n",
       "    <tr style=\"text-align: right;\">\n",
       "      <th></th>\n",
       "      <th>mean_action_time</th>\n",
       "      <th>down_time</th>\n",
       "      <th>word_count</th>\n",
       "      <th>action_time</th>\n",
       "      <th>coma_count</th>\n",
       "      <th>Input_count</th>\n",
       "      <th>Nonprod_count</th>\n",
       "      <th>cut_count</th>\n",
       "      <th>Replace_count</th>\n",
       "      <th>dot_count</th>\n",
       "      <th>q_count</th>\n",
       "      <th>no_change_count</th>\n",
       "      <th>space_count</th>\n",
       "      <th>Backspace_count</th>\n",
       "      <th>Shift_count</th>\n",
       "    </tr>\n",
       "    <tr>\n",
       "      <th>id</th>\n",
       "      <th></th>\n",
       "      <th></th>\n",
       "      <th></th>\n",
       "      <th></th>\n",
       "      <th></th>\n",
       "      <th></th>\n",
       "      <th></th>\n",
       "      <th></th>\n",
       "      <th></th>\n",
       "      <th></th>\n",
       "      <th></th>\n",
       "      <th></th>\n",
       "      <th></th>\n",
       "      <th></th>\n",
       "      <th></th>\n",
       "    </tr>\n",
       "  </thead>\n",
       "  <tbody>\n",
       "    <tr>\n",
       "      <th>001519c8</th>\n",
       "      <td>116.246774</td>\n",
       "      <td>8.481808e+05</td>\n",
       "      <td>256</td>\n",
       "      <td>2259</td>\n",
       "      <td>14.0</td>\n",
       "      <td>2010</td>\n",
       "      <td>120</td>\n",
       "      <td>417.0</td>\n",
       "      <td>7.0</td>\n",
       "      <td>28</td>\n",
       "      <td>1940</td>\n",
       "      <td>120</td>\n",
       "      <td>436</td>\n",
       "      <td>417.0</td>\n",
       "      <td>27.0</td>\n",
       "    </tr>\n",
       "    <tr>\n",
       "      <th>0022f953</th>\n",
       "      <td>112.221271</td>\n",
       "      <td>5.188553e+05</td>\n",
       "      <td>323</td>\n",
       "      <td>1758</td>\n",
       "      <td>24.0</td>\n",
       "      <td>1938</td>\n",
       "      <td>254</td>\n",
       "      <td>260.0</td>\n",
       "      <td>1.0</td>\n",
       "      <td>18</td>\n",
       "      <td>1698</td>\n",
       "      <td>254</td>\n",
       "      <td>432</td>\n",
       "      <td>260.0</td>\n",
       "      <td>97.0</td>\n",
       "    </tr>\n",
       "    <tr>\n",
       "      <th>0042269b</th>\n",
       "      <td>101.837766</td>\n",
       "      <td>8.284918e+05</td>\n",
       "      <td>404</td>\n",
       "      <td>3005</td>\n",
       "      <td>26.0</td>\n",
       "      <td>3515</td>\n",
       "      <td>175</td>\n",
       "      <td>439.0</td>\n",
       "      <td>7.0</td>\n",
       "      <td>23</td>\n",
       "      <td>3257</td>\n",
       "      <td>175</td>\n",
       "      <td>615</td>\n",
       "      <td>439.0</td>\n",
       "      <td>39.0</td>\n",
       "    </tr>\n",
       "    <tr>\n",
       "      <th>0059420b</th>\n",
       "      <td>121.848329</td>\n",
       "      <td>7.854830e+05</td>\n",
       "      <td>206</td>\n",
       "      <td>806</td>\n",
       "      <td>3.0</td>\n",
       "      <td>1304</td>\n",
       "      <td>99</td>\n",
       "      <td>151.0</td>\n",
       "      <td>1.0</td>\n",
       "      <td>13</td>\n",
       "      <td>1146</td>\n",
       "      <td>99</td>\n",
       "      <td>281</td>\n",
       "      <td>152.0</td>\n",
       "      <td>68.0</td>\n",
       "    </tr>\n",
       "    <tr>\n",
       "      <th>0075873a</th>\n",
       "      <td>123.943896</td>\n",
       "      <td>7.133542e+05</td>\n",
       "      <td>252</td>\n",
       "      <td>701</td>\n",
       "      <td>25.0</td>\n",
       "      <td>1942</td>\n",
       "      <td>72</td>\n",
       "      <td>517.0</td>\n",
       "      <td>NaN</td>\n",
       "      <td>32</td>\n",
       "      <td>1964</td>\n",
       "      <td>72</td>\n",
       "      <td>397</td>\n",
       "      <td>517.0</td>\n",
       "      <td>39.0</td>\n",
       "    </tr>\n",
       "    <tr>\n",
       "      <th>...</th>\n",
       "      <td>...</td>\n",
       "      <td>...</td>\n",
       "      <td>...</td>\n",
       "      <td>...</td>\n",
       "      <td>...</td>\n",
       "      <td>...</td>\n",
       "      <td>...</td>\n",
       "      <td>...</td>\n",
       "      <td>...</td>\n",
       "      <td>...</td>\n",
       "      <td>...</td>\n",
       "      <td>...</td>\n",
       "      <td>...</td>\n",
       "      <td>...</td>\n",
       "      <td>...</td>\n",
       "    </tr>\n",
       "    <tr>\n",
       "      <th>ffb8c745</th>\n",
       "      <td>105.437856</td>\n",
       "      <td>7.361019e+05</td>\n",
       "      <td>461</td>\n",
       "      <td>3323</td>\n",
       "      <td>42.0</td>\n",
       "      <td>3588</td>\n",
       "      <td>189</td>\n",
       "      <td>960.0</td>\n",
       "      <td>2.0</td>\n",
       "      <td>59</td>\n",
       "      <td>3605</td>\n",
       "      <td>189</td>\n",
       "      <td>813</td>\n",
       "      <td>960.0</td>\n",
       "      <td>164.0</td>\n",
       "    </tr>\n",
       "    <tr>\n",
       "      <th>ffbef7e5</th>\n",
       "      <td>82.266129</td>\n",
       "      <td>8.419662e+05</td>\n",
       "      <td>438</td>\n",
       "      <td>1144</td>\n",
       "      <td>24.0</td>\n",
       "      <td>2395</td>\n",
       "      <td>148</td>\n",
       "      <td>60.0</td>\n",
       "      <td>1.0</td>\n",
       "      <td>33</td>\n",
       "      <td>1920</td>\n",
       "      <td>148</td>\n",
       "      <td>457</td>\n",
       "      <td>60.0</td>\n",
       "      <td>106.0</td>\n",
       "    </tr>\n",
       "    <tr>\n",
       "      <th>ffccd6fd</th>\n",
       "      <td>75.605615</td>\n",
       "      <td>1.229015e+06</td>\n",
       "      <td>201</td>\n",
       "      <td>564</td>\n",
       "      <td>3.0</td>\n",
       "      <td>2849</td>\n",
       "      <td>126</td>\n",
       "      <td>88.0</td>\n",
       "      <td>NaN</td>\n",
       "      <td>6</td>\n",
       "      <td>1031</td>\n",
       "      <td>126</td>\n",
       "      <td>1879</td>\n",
       "      <td>88.0</td>\n",
       "      <td>NaN</td>\n",
       "    </tr>\n",
       "    <tr>\n",
       "      <th>ffec5b38</th>\n",
       "      <td>89.277915</td>\n",
       "      <td>5.765185e+05</td>\n",
       "      <td>413</td>\n",
       "      <td>1388</td>\n",
       "      <td>29.0</td>\n",
       "      <td>2895</td>\n",
       "      <td>71</td>\n",
       "      <td>276.0</td>\n",
       "      <td>NaN</td>\n",
       "      <td>34</td>\n",
       "      <td>2593</td>\n",
       "      <td>71</td>\n",
       "      <td>490</td>\n",
       "      <td>276.0</td>\n",
       "      <td>52.0</td>\n",
       "    </tr>\n",
       "    <tr>\n",
       "      <th>fff05981</th>\n",
       "      <td>83.237082</td>\n",
       "      <td>1.076844e+06</td>\n",
       "      <td>241</td>\n",
       "      <td>1915</td>\n",
       "      <td>26.0</td>\n",
       "      <td>2452</td>\n",
       "      <td>843</td>\n",
       "      <td>310.0</td>\n",
       "      <td>12.0</td>\n",
       "      <td>17</td>\n",
       "      <td>2177</td>\n",
       "      <td>843</td>\n",
       "      <td>474</td>\n",
       "      <td>308.0</td>\n",
       "      <td>78.0</td>\n",
       "    </tr>\n",
       "  </tbody>\n",
       "</table>\n",
       "<p>2471 rows × 15 columns</p>\n",
       "</div>"
      ],
      "text/plain": [
       "          mean_action_time     down_time  word_count  action_time  coma_count  \\\n",
       "id                                                                              \n",
       "001519c8        116.246774  8.481808e+05         256         2259        14.0   \n",
       "0022f953        112.221271  5.188553e+05         323         1758        24.0   \n",
       "0042269b        101.837766  8.284918e+05         404         3005        26.0   \n",
       "0059420b        121.848329  7.854830e+05         206          806         3.0   \n",
       "0075873a        123.943896  7.133542e+05         252          701        25.0   \n",
       "...                    ...           ...         ...          ...         ...   \n",
       "ffb8c745        105.437856  7.361019e+05         461         3323        42.0   \n",
       "ffbef7e5         82.266129  8.419662e+05         438         1144        24.0   \n",
       "ffccd6fd         75.605615  1.229015e+06         201          564         3.0   \n",
       "ffec5b38         89.277915  5.765185e+05         413         1388        29.0   \n",
       "fff05981         83.237082  1.076844e+06         241         1915        26.0   \n",
       "\n",
       "          Input_count  Nonprod_count  cut_count  Replace_count  dot_count  \\\n",
       "id                                                                          \n",
       "001519c8         2010            120      417.0            7.0         28   \n",
       "0022f953         1938            254      260.0            1.0         18   \n",
       "0042269b         3515            175      439.0            7.0         23   \n",
       "0059420b         1304             99      151.0            1.0         13   \n",
       "0075873a         1942             72      517.0            NaN         32   \n",
       "...               ...            ...        ...            ...        ...   \n",
       "ffb8c745         3588            189      960.0            2.0         59   \n",
       "ffbef7e5         2395            148       60.0            1.0         33   \n",
       "ffccd6fd         2849            126       88.0            NaN          6   \n",
       "ffec5b38         2895             71      276.0            NaN         34   \n",
       "fff05981         2452            843      310.0           12.0         17   \n",
       "\n",
       "          q_count  no_change_count  space_count  Backspace_count  Shift_count  \n",
       "id                                                                             \n",
       "001519c8     1940              120          436            417.0         27.0  \n",
       "0022f953     1698              254          432            260.0         97.0  \n",
       "0042269b     3257              175          615            439.0         39.0  \n",
       "0059420b     1146               99          281            152.0         68.0  \n",
       "0075873a     1964               72          397            517.0         39.0  \n",
       "...           ...              ...          ...              ...          ...  \n",
       "ffb8c745     3605              189          813            960.0        164.0  \n",
       "ffbef7e5     1920              148          457             60.0        106.0  \n",
       "ffccd6fd     1031              126         1879             88.0          NaN  \n",
       "ffec5b38     2593               71          490            276.0         52.0  \n",
       "fff05981     2177              843          474            308.0         78.0  \n",
       "\n",
       "[2471 rows x 15 columns]"
      ]
     },
     "execution_count": 163,
     "metadata": {},
     "output_type": "execute_result"
    }
   ],
   "source": [
    "X"
   ]
  },
  {
   "cell_type": "code",
   "execution_count": 164,
   "id": "550a2541",
   "metadata": {},
   "outputs": [],
   "source": [
    "X = X.fillna(0)"
   ]
  },
  {
   "cell_type": "code",
   "execution_count": 165,
   "id": "b9970f0e",
   "metadata": {
    "scrolled": false
   },
   "outputs": [
    {
     "data": {
      "text/plain": [
       "False"
      ]
     },
     "execution_count": 165,
     "metadata": {},
     "output_type": "execute_result"
    }
   ],
   "source": [
    "X.isnull().values.any()"
   ]
  },
  {
   "cell_type": "code",
   "execution_count": 166,
   "id": "9c13a5a3",
   "metadata": {},
   "outputs": [],
   "source": [
    "y = pd.DataFrame(train_scores)"
   ]
  },
  {
   "cell_type": "code",
   "execution_count": 167,
   "id": "ea3d0f58",
   "metadata": {},
   "outputs": [],
   "source": [
    "y = y.groupby(['id']).mean()"
   ]
  },
  {
   "cell_type": "code",
   "execution_count": 168,
   "id": "c727d38e",
   "metadata": {},
   "outputs": [],
   "source": [
    "y = y['score']"
   ]
  },
  {
   "cell_type": "code",
   "execution_count": 169,
   "id": "8822b73f",
   "metadata": {},
   "outputs": [
    {
     "data": {
      "text/html": [
       "<div>\n",
       "<style scoped>\n",
       "    .dataframe tbody tr th:only-of-type {\n",
       "        vertical-align: middle;\n",
       "    }\n",
       "\n",
       "    .dataframe tbody tr th {\n",
       "        vertical-align: top;\n",
       "    }\n",
       "\n",
       "    .dataframe thead th {\n",
       "        text-align: right;\n",
       "    }\n",
       "</style>\n",
       "<table border=\"1\" class=\"dataframe\">\n",
       "  <thead>\n",
       "    <tr style=\"text-align: right;\">\n",
       "      <th></th>\n",
       "      <th>id</th>\n",
       "      <th>mean_action_time</th>\n",
       "      <th>down_time</th>\n",
       "      <th>word_count</th>\n",
       "      <th>action_time</th>\n",
       "      <th>coma_count</th>\n",
       "      <th>Input_count</th>\n",
       "      <th>Nonprod_count</th>\n",
       "      <th>cut_count</th>\n",
       "      <th>Replace_count</th>\n",
       "      <th>dot_count</th>\n",
       "      <th>q_count</th>\n",
       "      <th>no_change_count</th>\n",
       "      <th>space_count</th>\n",
       "      <th>Backspace_count</th>\n",
       "      <th>Shift_count</th>\n",
       "      <th>score</th>\n",
       "    </tr>\n",
       "  </thead>\n",
       "  <tbody>\n",
       "    <tr>\n",
       "      <th>0</th>\n",
       "      <td>001519c8</td>\n",
       "      <td>116.246774</td>\n",
       "      <td>8.481808e+05</td>\n",
       "      <td>256</td>\n",
       "      <td>2259</td>\n",
       "      <td>14.0</td>\n",
       "      <td>2010</td>\n",
       "      <td>120</td>\n",
       "      <td>417.0</td>\n",
       "      <td>7.0</td>\n",
       "      <td>28</td>\n",
       "      <td>1940</td>\n",
       "      <td>120</td>\n",
       "      <td>436</td>\n",
       "      <td>417.0</td>\n",
       "      <td>27.0</td>\n",
       "      <td>3.5</td>\n",
       "    </tr>\n",
       "    <tr>\n",
       "      <th>1</th>\n",
       "      <td>0022f953</td>\n",
       "      <td>112.221271</td>\n",
       "      <td>5.188553e+05</td>\n",
       "      <td>323</td>\n",
       "      <td>1758</td>\n",
       "      <td>24.0</td>\n",
       "      <td>1938</td>\n",
       "      <td>254</td>\n",
       "      <td>260.0</td>\n",
       "      <td>1.0</td>\n",
       "      <td>18</td>\n",
       "      <td>1698</td>\n",
       "      <td>254</td>\n",
       "      <td>432</td>\n",
       "      <td>260.0</td>\n",
       "      <td>97.0</td>\n",
       "      <td>3.5</td>\n",
       "    </tr>\n",
       "    <tr>\n",
       "      <th>2</th>\n",
       "      <td>0042269b</td>\n",
       "      <td>101.837766</td>\n",
       "      <td>8.284918e+05</td>\n",
       "      <td>404</td>\n",
       "      <td>3005</td>\n",
       "      <td>26.0</td>\n",
       "      <td>3515</td>\n",
       "      <td>175</td>\n",
       "      <td>439.0</td>\n",
       "      <td>7.0</td>\n",
       "      <td>23</td>\n",
       "      <td>3257</td>\n",
       "      <td>175</td>\n",
       "      <td>615</td>\n",
       "      <td>439.0</td>\n",
       "      <td>39.0</td>\n",
       "      <td>6.0</td>\n",
       "    </tr>\n",
       "    <tr>\n",
       "      <th>3</th>\n",
       "      <td>0059420b</td>\n",
       "      <td>121.848329</td>\n",
       "      <td>7.854830e+05</td>\n",
       "      <td>206</td>\n",
       "      <td>806</td>\n",
       "      <td>3.0</td>\n",
       "      <td>1304</td>\n",
       "      <td>99</td>\n",
       "      <td>151.0</td>\n",
       "      <td>1.0</td>\n",
       "      <td>13</td>\n",
       "      <td>1146</td>\n",
       "      <td>99</td>\n",
       "      <td>281</td>\n",
       "      <td>152.0</td>\n",
       "      <td>68.0</td>\n",
       "      <td>2.0</td>\n",
       "    </tr>\n",
       "    <tr>\n",
       "      <th>4</th>\n",
       "      <td>0075873a</td>\n",
       "      <td>123.943896</td>\n",
       "      <td>7.133542e+05</td>\n",
       "      <td>252</td>\n",
       "      <td>701</td>\n",
       "      <td>25.0</td>\n",
       "      <td>1942</td>\n",
       "      <td>72</td>\n",
       "      <td>517.0</td>\n",
       "      <td>0.0</td>\n",
       "      <td>32</td>\n",
       "      <td>1964</td>\n",
       "      <td>72</td>\n",
       "      <td>397</td>\n",
       "      <td>517.0</td>\n",
       "      <td>39.0</td>\n",
       "      <td>4.0</td>\n",
       "    </tr>\n",
       "    <tr>\n",
       "      <th>...</th>\n",
       "      <td>...</td>\n",
       "      <td>...</td>\n",
       "      <td>...</td>\n",
       "      <td>...</td>\n",
       "      <td>...</td>\n",
       "      <td>...</td>\n",
       "      <td>...</td>\n",
       "      <td>...</td>\n",
       "      <td>...</td>\n",
       "      <td>...</td>\n",
       "      <td>...</td>\n",
       "      <td>...</td>\n",
       "      <td>...</td>\n",
       "      <td>...</td>\n",
       "      <td>...</td>\n",
       "      <td>...</td>\n",
       "      <td>...</td>\n",
       "    </tr>\n",
       "    <tr>\n",
       "      <th>2466</th>\n",
       "      <td>ffb8c745</td>\n",
       "      <td>105.437856</td>\n",
       "      <td>7.361019e+05</td>\n",
       "      <td>461</td>\n",
       "      <td>3323</td>\n",
       "      <td>42.0</td>\n",
       "      <td>3588</td>\n",
       "      <td>189</td>\n",
       "      <td>960.0</td>\n",
       "      <td>2.0</td>\n",
       "      <td>59</td>\n",
       "      <td>3605</td>\n",
       "      <td>189</td>\n",
       "      <td>813</td>\n",
       "      <td>960.0</td>\n",
       "      <td>164.0</td>\n",
       "      <td>3.5</td>\n",
       "    </tr>\n",
       "    <tr>\n",
       "      <th>2467</th>\n",
       "      <td>ffbef7e5</td>\n",
       "      <td>82.266129</td>\n",
       "      <td>8.419662e+05</td>\n",
       "      <td>438</td>\n",
       "      <td>1144</td>\n",
       "      <td>24.0</td>\n",
       "      <td>2395</td>\n",
       "      <td>148</td>\n",
       "      <td>60.0</td>\n",
       "      <td>1.0</td>\n",
       "      <td>33</td>\n",
       "      <td>1920</td>\n",
       "      <td>148</td>\n",
       "      <td>457</td>\n",
       "      <td>60.0</td>\n",
       "      <td>106.0</td>\n",
       "      <td>4.0</td>\n",
       "    </tr>\n",
       "    <tr>\n",
       "      <th>2468</th>\n",
       "      <td>ffccd6fd</td>\n",
       "      <td>75.605615</td>\n",
       "      <td>1.229015e+06</td>\n",
       "      <td>201</td>\n",
       "      <td>564</td>\n",
       "      <td>3.0</td>\n",
       "      <td>2849</td>\n",
       "      <td>126</td>\n",
       "      <td>88.0</td>\n",
       "      <td>0.0</td>\n",
       "      <td>6</td>\n",
       "      <td>1031</td>\n",
       "      <td>126</td>\n",
       "      <td>1879</td>\n",
       "      <td>88.0</td>\n",
       "      <td>0.0</td>\n",
       "      <td>1.5</td>\n",
       "    </tr>\n",
       "    <tr>\n",
       "      <th>2469</th>\n",
       "      <td>ffec5b38</td>\n",
       "      <td>89.277915</td>\n",
       "      <td>5.765185e+05</td>\n",
       "      <td>413</td>\n",
       "      <td>1388</td>\n",
       "      <td>29.0</td>\n",
       "      <td>2895</td>\n",
       "      <td>71</td>\n",
       "      <td>276.0</td>\n",
       "      <td>0.0</td>\n",
       "      <td>34</td>\n",
       "      <td>2593</td>\n",
       "      <td>71</td>\n",
       "      <td>490</td>\n",
       "      <td>276.0</td>\n",
       "      <td>52.0</td>\n",
       "      <td>5.0</td>\n",
       "    </tr>\n",
       "    <tr>\n",
       "      <th>2470</th>\n",
       "      <td>fff05981</td>\n",
       "      <td>83.237082</td>\n",
       "      <td>1.076844e+06</td>\n",
       "      <td>241</td>\n",
       "      <td>1915</td>\n",
       "      <td>26.0</td>\n",
       "      <td>2452</td>\n",
       "      <td>843</td>\n",
       "      <td>310.0</td>\n",
       "      <td>12.0</td>\n",
       "      <td>17</td>\n",
       "      <td>2177</td>\n",
       "      <td>843</td>\n",
       "      <td>474</td>\n",
       "      <td>308.0</td>\n",
       "      <td>78.0</td>\n",
       "      <td>4.0</td>\n",
       "    </tr>\n",
       "  </tbody>\n",
       "</table>\n",
       "<p>2471 rows × 17 columns</p>\n",
       "</div>"
      ],
      "text/plain": [
       "            id  mean_action_time     down_time  word_count  action_time  \\\n",
       "0     001519c8        116.246774  8.481808e+05         256         2259   \n",
       "1     0022f953        112.221271  5.188553e+05         323         1758   \n",
       "2     0042269b        101.837766  8.284918e+05         404         3005   \n",
       "3     0059420b        121.848329  7.854830e+05         206          806   \n",
       "4     0075873a        123.943896  7.133542e+05         252          701   \n",
       "...        ...               ...           ...         ...          ...   \n",
       "2466  ffb8c745        105.437856  7.361019e+05         461         3323   \n",
       "2467  ffbef7e5         82.266129  8.419662e+05         438         1144   \n",
       "2468  ffccd6fd         75.605615  1.229015e+06         201          564   \n",
       "2469  ffec5b38         89.277915  5.765185e+05         413         1388   \n",
       "2470  fff05981         83.237082  1.076844e+06         241         1915   \n",
       "\n",
       "      coma_count  Input_count  Nonprod_count  cut_count  Replace_count  \\\n",
       "0           14.0         2010            120      417.0            7.0   \n",
       "1           24.0         1938            254      260.0            1.0   \n",
       "2           26.0         3515            175      439.0            7.0   \n",
       "3            3.0         1304             99      151.0            1.0   \n",
       "4           25.0         1942             72      517.0            0.0   \n",
       "...          ...          ...            ...        ...            ...   \n",
       "2466        42.0         3588            189      960.0            2.0   \n",
       "2467        24.0         2395            148       60.0            1.0   \n",
       "2468         3.0         2849            126       88.0            0.0   \n",
       "2469        29.0         2895             71      276.0            0.0   \n",
       "2470        26.0         2452            843      310.0           12.0   \n",
       "\n",
       "      dot_count  q_count  no_change_count  space_count  Backspace_count  \\\n",
       "0            28     1940              120          436            417.0   \n",
       "1            18     1698              254          432            260.0   \n",
       "2            23     3257              175          615            439.0   \n",
       "3            13     1146               99          281            152.0   \n",
       "4            32     1964               72          397            517.0   \n",
       "...         ...      ...              ...          ...              ...   \n",
       "2466         59     3605              189          813            960.0   \n",
       "2467         33     1920              148          457             60.0   \n",
       "2468          6     1031              126         1879             88.0   \n",
       "2469         34     2593               71          490            276.0   \n",
       "2470         17     2177              843          474            308.0   \n",
       "\n",
       "      Shift_count  score  \n",
       "0            27.0    3.5  \n",
       "1            97.0    3.5  \n",
       "2            39.0    6.0  \n",
       "3            68.0    2.0  \n",
       "4            39.0    4.0  \n",
       "...           ...    ...  \n",
       "2466        164.0    3.5  \n",
       "2467        106.0    4.0  \n",
       "2468          0.0    1.5  \n",
       "2469         52.0    5.0  \n",
       "2470         78.0    4.0  \n",
       "\n",
       "[2471 rows x 17 columns]"
      ]
     },
     "execution_count": 169,
     "metadata": {},
     "output_type": "execute_result"
    }
   ],
   "source": [
    "#we merge score with X so we can analyse correlations\n",
    "df1= pd.DataFrame(X)\n",
    "y = pd.DataFrame(train_scores)\n",
    "\n",
    "merged_df = pd.merge(df1, y, on='id', how='inner')\n",
    "\n",
    "merged_df"
   ]
  },
  {
   "cell_type": "code",
   "execution_count": 170,
   "id": "d04efbd8",
   "metadata": {
    "scrolled": false
   },
   "outputs": [
    {
     "name": "stderr",
     "output_type": "stream",
     "text": [
      "C:\\Users\\maryl\\AppData\\Local\\Temp\\ipykernel_18860\\3622089823.py:1: FutureWarning: The default value of numeric_only in DataFrame.corr is deprecated. In a future version, it will default to False. Select only valid columns or specify the value of numeric_only to silence this warning.\n",
      "  correlations = merged_df.corr()\n"
     ]
    },
    {
     "data": {
      "image/png": "[encoded data removed]",
      "text/plain": [
       "<Figure size 1000x1000 with 2 Axes>"
      ]
     },
     "metadata": {},
     "output_type": "display_data"
    }
   ],
   "source": [
    "correlations = merged_df.corr()\n",
    "fig, ax = plt.subplots(figsize=(10, 10))\n",
    "\n",
    "colormap = sns.color_palette(\"BrBG\", 10)\n",
    "\n",
    "sns.heatmap(correlations, \n",
    "    cmap=colormap, \n",
    "    annot=True, \n",
    "    fmt=\".2f\")\n",
    "\n",
    "plt.show()"
   ]
  },
  {
   "cell_type": "code",
   "execution_count": 19,
   "id": "658b37ea",
   "metadata": {},
   "outputs": [
    {
     "data": {
      "text/html": [
       "<div>\n",
       "<style scoped>\n",
       "    .dataframe tbody tr th:only-of-type {\n",
       "        vertical-align: middle;\n",
       "    }\n",
       "\n",
       "    .dataframe tbody tr th {\n",
       "        vertical-align: top;\n",
       "    }\n",
       "\n",
       "    .dataframe thead th {\n",
       "        text-align: right;\n",
       "    }\n",
       "</style>\n",
       "<table border=\"1\" class=\"dataframe\">\n",
       "  <thead>\n",
       "    <tr style=\"text-align: right;\">\n",
       "      <th></th>\n",
       "      <th>id</th>\n",
       "      <th>word_count</th>\n",
       "      <th>coma_count</th>\n",
       "      <th>Nonprod_count</th>\n",
       "      <th>cut_count</th>\n",
       "      <th>dot_count</th>\n",
       "      <th>Replace_count</th>\n",
       "      <th>q_count</th>\n",
       "      <th>space_count</th>\n",
       "      <th>score</th>\n",
       "    </tr>\n",
       "  </thead>\n",
       "  <tbody>\n",
       "    <tr>\n",
       "      <th>0</th>\n",
       "      <td>001519c8</td>\n",
       "      <td>256</td>\n",
       "      <td>14.0</td>\n",
       "      <td>120</td>\n",
       "      <td>417.0</td>\n",
       "      <td>28</td>\n",
       "      <td>7.0</td>\n",
       "      <td>1940</td>\n",
       "      <td>436</td>\n",
       "      <td>3.5</td>\n",
       "    </tr>\n",
       "    <tr>\n",
       "      <th>1</th>\n",
       "      <td>0022f953</td>\n",
       "      <td>323</td>\n",
       "      <td>24.0</td>\n",
       "      <td>254</td>\n",
       "      <td>260.0</td>\n",
       "      <td>18</td>\n",
       "      <td>1.0</td>\n",
       "      <td>1698</td>\n",
       "      <td>432</td>\n",
       "      <td>3.5</td>\n",
       "    </tr>\n",
       "    <tr>\n",
       "      <th>2</th>\n",
       "      <td>0042269b</td>\n",
       "      <td>404</td>\n",
       "      <td>26.0</td>\n",
       "      <td>175</td>\n",
       "      <td>439.0</td>\n",
       "      <td>23</td>\n",
       "      <td>7.0</td>\n",
       "      <td>3257</td>\n",
       "      <td>615</td>\n",
       "      <td>6.0</td>\n",
       "    </tr>\n",
       "    <tr>\n",
       "      <th>3</th>\n",
       "      <td>0059420b</td>\n",
       "      <td>206</td>\n",
       "      <td>3.0</td>\n",
       "      <td>99</td>\n",
       "      <td>151.0</td>\n",
       "      <td>13</td>\n",
       "      <td>1.0</td>\n",
       "      <td>1146</td>\n",
       "      <td>281</td>\n",
       "      <td>2.0</td>\n",
       "    </tr>\n",
       "    <tr>\n",
       "      <th>4</th>\n",
       "      <td>0075873a</td>\n",
       "      <td>252</td>\n",
       "      <td>25.0</td>\n",
       "      <td>72</td>\n",
       "      <td>517.0</td>\n",
       "      <td>32</td>\n",
       "      <td>0.0</td>\n",
       "      <td>1964</td>\n",
       "      <td>397</td>\n",
       "      <td>4.0</td>\n",
       "    </tr>\n",
       "    <tr>\n",
       "      <th>...</th>\n",
       "      <td>...</td>\n",
       "      <td>...</td>\n",
       "      <td>...</td>\n",
       "      <td>...</td>\n",
       "      <td>...</td>\n",
       "      <td>...</td>\n",
       "      <td>...</td>\n",
       "      <td>...</td>\n",
       "      <td>...</td>\n",
       "      <td>...</td>\n",
       "    </tr>\n",
       "    <tr>\n",
       "      <th>2466</th>\n",
       "      <td>ffb8c745</td>\n",
       "      <td>461</td>\n",
       "      <td>42.0</td>\n",
       "      <td>189</td>\n",
       "      <td>960.0</td>\n",
       "      <td>59</td>\n",
       "      <td>2.0</td>\n",
       "      <td>3605</td>\n",
       "      <td>813</td>\n",
       "      <td>3.5</td>\n",
       "    </tr>\n",
       "    <tr>\n",
       "      <th>2467</th>\n",
       "      <td>ffbef7e5</td>\n",
       "      <td>438</td>\n",
       "      <td>24.0</td>\n",
       "      <td>148</td>\n",
       "      <td>60.0</td>\n",
       "      <td>33</td>\n",
       "      <td>1.0</td>\n",
       "      <td>1920</td>\n",
       "      <td>457</td>\n",
       "      <td>4.0</td>\n",
       "    </tr>\n",
       "    <tr>\n",
       "      <th>2468</th>\n",
       "      <td>ffccd6fd</td>\n",
       "      <td>201</td>\n",
       "      <td>3.0</td>\n",
       "      <td>126</td>\n",
       "      <td>88.0</td>\n",
       "      <td>6</td>\n",
       "      <td>0.0</td>\n",
       "      <td>1031</td>\n",
       "      <td>1879</td>\n",
       "      <td>1.5</td>\n",
       "    </tr>\n",
       "    <tr>\n",
       "      <th>2469</th>\n",
       "      <td>ffec5b38</td>\n",
       "      <td>413</td>\n",
       "      <td>29.0</td>\n",
       "      <td>71</td>\n",
       "      <td>276.0</td>\n",
       "      <td>34</td>\n",
       "      <td>0.0</td>\n",
       "      <td>2593</td>\n",
       "      <td>490</td>\n",
       "      <td>5.0</td>\n",
       "    </tr>\n",
       "    <tr>\n",
       "      <th>2470</th>\n",
       "      <td>fff05981</td>\n",
       "      <td>241</td>\n",
       "      <td>26.0</td>\n",
       "      <td>843</td>\n",
       "      <td>310.0</td>\n",
       "      <td>17</td>\n",
       "      <td>12.0</td>\n",
       "      <td>2177</td>\n",
       "      <td>474</td>\n",
       "      <td>4.0</td>\n",
       "    </tr>\n",
       "  </tbody>\n",
       "</table>\n",
       "<p>2471 rows × 10 columns</p>\n",
       "</div>"
      ],
      "text/plain": [
       "            id  word_count  coma_count  Nonprod_count  cut_count  dot_count  \\\n",
       "0     001519c8         256        14.0            120      417.0         28   \n",
       "1     0022f953         323        24.0            254      260.0         18   \n",
       "2     0042269b         404        26.0            175      439.0         23   \n",
       "3     0059420b         206         3.0             99      151.0         13   \n",
       "4     0075873a         252        25.0             72      517.0         32   \n",
       "...        ...         ...         ...            ...        ...        ...   \n",
       "2466  ffb8c745         461        42.0            189      960.0         59   \n",
       "2467  ffbef7e5         438        24.0            148       60.0         33   \n",
       "2468  ffccd6fd         201         3.0            126       88.0          6   \n",
       "2469  ffec5b38         413        29.0             71      276.0         34   \n",
       "2470  fff05981         241        26.0            843      310.0         17   \n",
       "\n",
       "      Replace_count  q_count  space_count  score  \n",
       "0               7.0     1940          436    3.5  \n",
       "1               1.0     1698          432    3.5  \n",
       "2               7.0     3257          615    6.0  \n",
       "3               1.0     1146          281    2.0  \n",
       "4               0.0     1964          397    4.0  \n",
       "...             ...      ...          ...    ...  \n",
       "2466            2.0     3605          813    3.5  \n",
       "2467            1.0     1920          457    4.0  \n",
       "2468            0.0     1031         1879    1.5  \n",
       "2469            0.0     2593          490    5.0  \n",
       "2470           12.0     2177          474    4.0  \n",
       "\n",
       "[2471 rows x 10 columns]"
      ]
     },
     "execution_count": 19,
     "metadata": {},
     "output_type": "execute_result"
    }
   ],
   "source": [
    "#dropped columns are either duplicates or statistically insignificantant\n",
    "X = X.drop(['action_time','down_time', 'Input_count', 'Backspace_count'], axis = 1)\n",
    "merged_df = merged_df.drop(['action_time','down_time', 'Input_count', 'Backspace_count'], axis = 1)\n",
    "merged_df"
   ]
  },
  {
   "cell_type": "code",
   "execution_count": 20,
   "id": "aabfbae4",
   "metadata": {
    "scrolled": true
   },
   "outputs": [
    {
     "name": "stderr",
     "output_type": "stream",
     "text": [
      "C:\\Users\\maryl\\AppData\\Local\\Temp\\ipykernel_16684\\3622089823.py:1: FutureWarning: The default value of numeric_only in DataFrame.corr is deprecated. In a future version, it will default to False. Select only valid columns or specify the value of numeric_only to silence this warning.\n",
      "  correlations = merged_df.corr()\n"
     ]
    },
    {
     "data": {
      "image/png": "[encoded data removed]",
      "text/plain": [
       "<Figure size 1000x1000 with 2 Axes>"
      ]
     },
     "metadata": {},
     "output_type": "display_data"
    }
   ],
   "source": [
    "correlations = merged_df.corr()\n",
    "fig, ax = plt.subplots(figsize=(10, 10))\n",
    "\n",
    "colormap = sns.color_palette(\"BrBG\", 10)\n",
    "\n",
    "sns.heatmap(correlations, \n",
    "    cmap=colormap, \n",
    "    annot=True, \n",
    "    fmt=\".2f\")\n",
    "\n",
    "plt.show()"
   ]
  },
  {
   "cell_type": "code",
   "execution_count": 21,
   "id": "2e05fa16",
   "metadata": {},
   "outputs": [],
   "source": [
    "accuracy_compare = pd.DataFrame(columns = ['Logistic Regression', 'SVM', 'Random Forests', 'Decision Trees', 'Ridge', 'Lasso'], index = ['MAE', 'MSE', 'RMSE'])"
   ]
  },
  {
   "cell_type": "markdown",
   "id": "49d92f96",
   "metadata": {},
   "source": [
    "# AI modelling "
   ]
  },
  {
   "cell_type": "markdown",
   "id": "fc316e0e",
   "metadata": {},
   "source": [
    "### Linear Regression"
   ]
  },
  {
   "cell_type": "code",
   "execution_count": 22,
   "id": "d605226c",
   "metadata": {},
   "outputs": [],
   "source": [
    "from sklearn.model_selection import train_test_split"
   ]
  },
  {
   "cell_type": "code",
   "execution_count": 23,
   "id": "60638eef",
   "metadata": {},
   "outputs": [],
   "source": [
    "X_train, X_test, y_train, y_test = train_test_split(X, y, test_size=0.33, random_state=42)"
   ]
  },
  {
   "cell_type": "code",
   "execution_count": 24,
   "id": "9164122d",
   "metadata": {},
   "outputs": [],
   "source": [
    "from sklearn.linear_model import LinearRegression"
   ]
  },
  {
   "cell_type": "code",
   "execution_count": 25,
   "id": "abd0b182",
   "metadata": {
    "scrolled": true
   },
   "outputs": [
    {
     "data": {
      "text/html": [
       "<style>#sk-container-id-1 {color: black;background-color: white;}#sk-container-id-1 pre{padding: 0;}#sk-container-id-1 div.sk-toggleable {background-color: white;}#sk-container-id-1 label.sk-toggleable__label {cursor: pointer;display: block;width: 100%;margin-bottom: 0;padding: 0.3em;box-sizing: border-box;text-align: center;}#sk-container-id-1 label.sk-toggleable__label-arrow:before {content: \"▸\";float: left;margin-right: 0.25em;color: #696969;}#sk-container-id-1 label.sk-toggleable__label-arrow:hover:before {color: black;}#sk-container-id-1 div.sk-estimator:hover label.sk-toggleable__label-arrow:before {color: black;}#sk-container-id-1 div.sk-toggleable__content {max-height: 0;max-width: 0;overflow: hidden;text-align: left;background-color: #f0f8ff;}#sk-container-id-1 div.sk-toggleable__content pre {margin: 0.2em;color: black;border-radius: 0.25em;background-color: #f0f8ff;}#sk-container-id-1 input.sk-toggleable__control:checked~div.sk-toggleable__content {max-height: 200px;max-width: 100%;overflow: auto;}#sk-container-id-1 input.sk-toggleable__control:checked~label.sk-toggleable__label-arrow:before {content: \"▾\";}#sk-container-id-1 div.sk-estimator input.sk-toggleable__control:checked~label.sk-toggleable__label {background-color: #d4ebff;}#sk-container-id-1 div.sk-label input.sk-toggleable__control:checked~label.sk-toggleable__label {background-color: #d4ebff;}#sk-container-id-1 input.sk-hidden--visually {border: 0;clip: rect(1px 1px 1px 1px);clip: rect(1px, 1px, 1px, 1px);height: 1px;margin: -1px;overflow: hidden;padding: 0;position: absolute;width: 1px;}#sk-container-id-1 div.sk-estimator {font-family: monospace;background-color: #f0f8ff;border: 1px dotted black;border-radius: 0.25em;box-sizing: border-box;margin-bottom: 0.5em;}#sk-container-id-1 div.sk-estimator:hover {background-color: #d4ebff;}#sk-container-id-1 div.sk-parallel-item::after {content: \"\";width: 100%;border-bottom: 1px solid gray;flex-grow: 1;}#sk-container-id-1 div.sk-label:hover label.sk-toggleable__label {background-color: #d4ebff;}#sk-container-id-1 div.sk-serial::before {content: \"\";position: absolute;border-left: 1px solid gray;box-sizing: border-box;top: 0;bottom: 0;left: 50%;z-index: 0;}#sk-container-id-1 div.sk-serial {display: flex;flex-direction: column;align-items: center;background-color: white;padding-right: 0.2em;padding-left: 0.2em;position: relative;}#sk-container-id-1 div.sk-item {position: relative;z-index: 1;}#sk-container-id-1 div.sk-parallel {display: flex;align-items: stretch;justify-content: center;background-color: white;position: relative;}#sk-container-id-1 div.sk-item::before, #sk-container-id-1 div.sk-parallel-item::before {content: \"\";position: absolute;border-left: 1px solid gray;box-sizing: border-box;top: 0;bottom: 0;left: 50%;z-index: -1;}#sk-container-id-1 div.sk-parallel-item {display: flex;flex-direction: column;z-index: 1;position: relative;background-color: white;}#sk-container-id-1 div.sk-parallel-item:first-child::after {align-self: flex-end;width: 50%;}#sk-container-id-1 div.sk-parallel-item:last-child::after {align-self: flex-start;width: 50%;}#sk-container-id-1 div.sk-parallel-item:only-child::after {width: 0;}#sk-container-id-1 div.sk-dashed-wrapped {border: 1px dashed gray;margin: 0 0.4em 0.5em 0.4em;box-sizing: border-box;padding-bottom: 0.4em;background-color: white;}#sk-container-id-1 div.sk-label label {font-family: monospace;font-weight: bold;display: inline-block;line-height: 1.2em;}#sk-container-id-1 div.sk-label-container {text-align: center;}#sk-container-id-1 div.sk-container {/* jupyter's `normalize.less` sets `[hidden] { display: none; }` but bootstrap.min.css set `[hidden] { display: none !important; }` so we also need the `!important` here to be able to override the default hidden behavior on the sphinx rendered scikit-learn.org. See: https://github.com/scikit-learn/scikit-learn/issues/21755 */display: inline-block !important;position: relative;}#sk-container-id-1 div.sk-text-repr-fallback {display: none;}</style><div id=\"sk-container-id-1\" class=\"sk-top-container\"><div class=\"sk-text-repr-fallback\"><pre>LinearRegression()</pre><b>In a Jupyter environment, please rerun this cell to show the HTML representation or trust the notebook. <br />On GitHub, the HTML representation is unable to render, please try loading this page with nbviewer.org.</b></div><div class=\"sk-container\" hidden><div class=\"sk-item\"><div class=\"sk-estimator sk-toggleable\"><input class=\"sk-toggleable__control sk-hidden--visually\" id=\"sk-estimator-id-1\" type=\"checkbox\" checked><label for=\"sk-estimator-id-1\" class=\"sk-toggleable__label sk-toggleable__label-arrow\">LinearRegression</label><div class=\"sk-toggleable__content\"><pre>LinearRegression()</pre></div></div></div></div></div>"
      ],
      "text/plain": [
       "LinearRegression()"
      ]
     },
     "execution_count": 25,
     "metadata": {},
     "output_type": "execute_result"
    }
   ],
   "source": [
    "linmodel = LinearRegression()\n",
    "linmodel.fit(X_train, y_train)"
   ]
  },
  {
   "cell_type": "code",
   "execution_count": 26,
   "id": "cbf90a4d",
   "metadata": {},
   "outputs": [],
   "source": [
    "lin_predictions = linmodel.predict(X_test)"
   ]
  },
  {
   "cell_type": "code",
   "execution_count": 27,
   "id": "aba25289",
   "metadata": {},
   "outputs": [],
   "source": [
    "from sklearn import metrics"
   ]
  },
  {
   "cell_type": "code",
   "execution_count": 28,
   "id": "7be08b67",
   "metadata": {
    "scrolled": true
   },
   "outputs": [
    {
     "name": "stdout",
     "output_type": "stream",
     "text": [
      "MAE: 0.5542862799116794\n",
      "MSE: 0.5561647508813067\n",
      "RMSE: 0.7457645411799267\n"
     ]
    }
   ],
   "source": [
    "print('MAE:', metrics.mean_absolute_error(y_test, lin_predictions))\n",
    "print('MSE:', metrics.mean_squared_error(y_test, lin_predictions))\n",
    "print('RMSE:', np.sqrt(metrics.mean_squared_error(y_test, lin_predictions)))\n",
    "acc = np.array([metrics.mean_absolute_error(y_test, lin_predictions), metrics.mean_squared_error(y_test, lin_predictions), np.sqrt(metrics.mean_squared_error(y_test, lin_predictions))])\n",
    "accuracy_compare['Logistic Regression'] = acc"
   ]
  },
  {
   "cell_type": "markdown",
   "id": "f98cc174",
   "metadata": {},
   "source": [
    "### Support Vector Machines"
   ]
  },
  {
   "cell_type": "code",
   "execution_count": 29,
   "id": "a8428238",
   "metadata": {},
   "outputs": [],
   "source": [
    "from sklearn import svm"
   ]
  },
  {
   "cell_type": "code",
   "execution_count": 30,
   "id": "99eb7d7d",
   "metadata": {},
   "outputs": [],
   "source": [
    "#svmodel = svm.SVR(kernel = 'linear')\n",
    "#svmodel.fit(X_train, y_train)\n",
    "#not working"
   ]
  },
  {
   "cell_type": "code",
   "execution_count": 31,
   "id": "08d2c786",
   "metadata": {},
   "outputs": [
    {
     "data": {
      "text/html": [
       "<style>#sk-container-id-2 {color: black;background-color: white;}#sk-container-id-2 pre{padding: 0;}#sk-container-id-2 div.sk-toggleable {background-color: white;}#sk-container-id-2 label.sk-toggleable__label {cursor: pointer;display: block;width: 100%;margin-bottom: 0;padding: 0.3em;box-sizing: border-box;text-align: center;}#sk-container-id-2 label.sk-toggleable__label-arrow:before {content: \"▸\";float: left;margin-right: 0.25em;color: #696969;}#sk-container-id-2 label.sk-toggleable__label-arrow:hover:before {color: black;}#sk-container-id-2 div.sk-estimator:hover label.sk-toggleable__label-arrow:before {color: black;}#sk-container-id-2 div.sk-toggleable__content {max-height: 0;max-width: 0;overflow: hidden;text-align: left;background-color: #f0f8ff;}#sk-container-id-2 div.sk-toggleable__content pre {margin: 0.2em;color: black;border-radius: 0.25em;background-color: #f0f8ff;}#sk-container-id-2 input.sk-toggleable__control:checked~div.sk-toggleable__content {max-height: 200px;max-width: 100%;overflow: auto;}#sk-container-id-2 input.sk-toggleable__control:checked~label.sk-toggleable__label-arrow:before {content: \"▾\";}#sk-container-id-2 div.sk-estimator input.sk-toggleable__control:checked~label.sk-toggleable__label {background-color: #d4ebff;}#sk-container-id-2 div.sk-label input.sk-toggleable__control:checked~label.sk-toggleable__label {background-color: #d4ebff;}#sk-container-id-2 input.sk-hidden--visually {border: 0;clip: rect(1px 1px 1px 1px);clip: rect(1px, 1px, 1px, 1px);height: 1px;margin: -1px;overflow: hidden;padding: 0;position: absolute;width: 1px;}#sk-container-id-2 div.sk-estimator {font-family: monospace;background-color: #f0f8ff;border: 1px dotted black;border-radius: 0.25em;box-sizing: border-box;margin-bottom: 0.5em;}#sk-container-id-2 div.sk-estimator:hover {background-color: #d4ebff;}#sk-container-id-2 div.sk-parallel-item::after {content: \"\";width: 100%;border-bottom: 1px solid gray;flex-grow: 1;}#sk-container-id-2 div.sk-label:hover label.sk-toggleable__label {background-color: #d4ebff;}#sk-container-id-2 div.sk-serial::before {content: \"\";position: absolute;border-left: 1px solid gray;box-sizing: border-box;top: 0;bottom: 0;left: 50%;z-index: 0;}#sk-container-id-2 div.sk-serial {display: flex;flex-direction: column;align-items: center;background-color: white;padding-right: 0.2em;padding-left: 0.2em;position: relative;}#sk-container-id-2 div.sk-item {position: relative;z-index: 1;}#sk-container-id-2 div.sk-parallel {display: flex;align-items: stretch;justify-content: center;background-color: white;position: relative;}#sk-container-id-2 div.sk-item::before, #sk-container-id-2 div.sk-parallel-item::before {content: \"\";position: absolute;border-left: 1px solid gray;box-sizing: border-box;top: 0;bottom: 0;left: 50%;z-index: -1;}#sk-container-id-2 div.sk-parallel-item {display: flex;flex-direction: column;z-index: 1;position: relative;background-color: white;}#sk-container-id-2 div.sk-parallel-item:first-child::after {align-self: flex-end;width: 50%;}#sk-container-id-2 div.sk-parallel-item:last-child::after {align-self: flex-start;width: 50%;}#sk-container-id-2 div.sk-parallel-item:only-child::after {width: 0;}#sk-container-id-2 div.sk-dashed-wrapped {border: 1px dashed gray;margin: 0 0.4em 0.5em 0.4em;box-sizing: border-box;padding-bottom: 0.4em;background-color: white;}#sk-container-id-2 div.sk-label label {font-family: monospace;font-weight: bold;display: inline-block;line-height: 1.2em;}#sk-container-id-2 div.sk-label-container {text-align: center;}#sk-container-id-2 div.sk-container {/* jupyter's `normalize.less` sets `[hidden] { display: none; }` but bootstrap.min.css set `[hidden] { display: none !important; }` so we also need the `!important` here to be able to override the default hidden behavior on the sphinx rendered scikit-learn.org. See: https://github.com/scikit-learn/scikit-learn/issues/21755 */display: inline-block !important;position: relative;}#sk-container-id-2 div.sk-text-repr-fallback {display: none;}</style><div id=\"sk-container-id-2\" class=\"sk-top-container\"><div class=\"sk-text-repr-fallback\"><pre>SVR()</pre><b>In a Jupyter environment, please rerun this cell to show the HTML representation or trust the notebook. <br />On GitHub, the HTML representation is unable to render, please try loading this page with nbviewer.org.</b></div><div class=\"sk-container\" hidden><div class=\"sk-item\"><div class=\"sk-estimator sk-toggleable\"><input class=\"sk-toggleable__control sk-hidden--visually\" id=\"sk-estimator-id-2\" type=\"checkbox\" checked><label for=\"sk-estimator-id-2\" class=\"sk-toggleable__label sk-toggleable__label-arrow\">SVR</label><div class=\"sk-toggleable__content\"><pre>SVR()</pre></div></div></div></div></div>"
      ],
      "text/plain": [
       "SVR()"
      ]
     },
     "execution_count": 31,
     "metadata": {},
     "output_type": "execute_result"
    }
   ],
   "source": [
    "svmodel = svm.SVR(kernel = 'rbf')\n",
    "svmodel.fit(X_train, y_train)"
   ]
  },
  {
   "cell_type": "code",
   "execution_count": 32,
   "id": "a8aa912c",
   "metadata": {},
   "outputs": [],
   "source": [
    "SVR_predictions = svmodel.predict(X_test)"
   ]
  },
  {
   "cell_type": "code",
   "execution_count": 33,
   "id": "733ee7de",
   "metadata": {
    "scrolled": true
   },
   "outputs": [
    {
     "name": "stdout",
     "output_type": "stream",
     "text": [
      "MAE: 0.7799344569795668\n",
      "MSE: 0.9939627671852403\n",
      "RMSE: 0.9969768137651148\n"
     ]
    }
   ],
   "source": [
    "print('MAE:', metrics.mean_absolute_error(y_test, SVR_predictions))\n",
    "print('MSE:', metrics.mean_squared_error(y_test, SVR_predictions))\n",
    "print('RMSE:', np.sqrt(metrics.mean_squared_error(y_test, SVR_predictions)))\n",
    "acc = np.array([metrics.mean_absolute_error(y_test, SVR_predictions), metrics.mean_squared_error(y_test, SVR_predictions), np.sqrt(metrics.mean_squared_error(y_test, SVR_predictions))])\n",
    "accuracy_compare['SVM'] = acc"
   ]
  },
  {
   "cell_type": "markdown",
   "id": "1d8a0be8",
   "metadata": {},
   "source": [
    "### Random Forests"
   ]
  },
  {
   "cell_type": "code",
   "execution_count": 34,
   "id": "243aa735",
   "metadata": {},
   "outputs": [],
   "source": [
    "from sklearn.ensemble import RandomForestRegressor"
   ]
  },
  {
   "cell_type": "code",
   "execution_count": 35,
   "id": "39c82d45",
   "metadata": {},
   "outputs": [
    {
     "data": {
      "text/html": [
       "<style>#sk-container-id-3 {color: black;background-color: white;}#sk-container-id-3 pre{padding: 0;}#sk-container-id-3 div.sk-toggleable {background-color: white;}#sk-container-id-3 label.sk-toggleable__label {cursor: pointer;display: block;width: 100%;margin-bottom: 0;padding: 0.3em;box-sizing: border-box;text-align: center;}#sk-container-id-3 label.sk-toggleable__label-arrow:before {content: \"▸\";float: left;margin-right: 0.25em;color: #696969;}#sk-container-id-3 label.sk-toggleable__label-arrow:hover:before {color: black;}#sk-container-id-3 div.sk-estimator:hover label.sk-toggleable__label-arrow:before {color: black;}#sk-container-id-3 div.sk-toggleable__content {max-height: 0;max-width: 0;overflow: hidden;text-align: left;background-color: #f0f8ff;}#sk-container-id-3 div.sk-toggleable__content pre {margin: 0.2em;color: black;border-radius: 0.25em;background-color: #f0f8ff;}#sk-container-id-3 input.sk-toggleable__control:checked~div.sk-toggleable__content {max-height: 200px;max-width: 100%;overflow: auto;}#sk-container-id-3 input.sk-toggleable__control:checked~label.sk-toggleable__label-arrow:before {content: \"▾\";}#sk-container-id-3 div.sk-estimator input.sk-toggleable__control:checked~label.sk-toggleable__label {background-color: #d4ebff;}#sk-container-id-3 div.sk-label input.sk-toggleable__control:checked~label.sk-toggleable__label {background-color: #d4ebff;}#sk-container-id-3 input.sk-hidden--visually {border: 0;clip: rect(1px 1px 1px 1px);clip: rect(1px, 1px, 1px, 1px);height: 1px;margin: -1px;overflow: hidden;padding: 0;position: absolute;width: 1px;}#sk-container-id-3 div.sk-estimator {font-family: monospace;background-color: #f0f8ff;border: 1px dotted black;border-radius: 0.25em;box-sizing: border-box;margin-bottom: 0.5em;}#sk-container-id-3 div.sk-estimator:hover {background-color: #d4ebff;}#sk-container-id-3 div.sk-parallel-item::after {content: \"\";width: 100%;border-bottom: 1px solid gray;flex-grow: 1;}#sk-container-id-3 div.sk-label:hover label.sk-toggleable__label {background-color: #d4ebff;}#sk-container-id-3 div.sk-serial::before {content: \"\";position: absolute;border-left: 1px solid gray;box-sizing: border-box;top: 0;bottom: 0;left: 50%;z-index: 0;}#sk-container-id-3 div.sk-serial {display: flex;flex-direction: column;align-items: center;background-color: white;padding-right: 0.2em;padding-left: 0.2em;position: relative;}#sk-container-id-3 div.sk-item {position: relative;z-index: 1;}#sk-container-id-3 div.sk-parallel {display: flex;align-items: stretch;justify-content: center;background-color: white;position: relative;}#sk-container-id-3 div.sk-item::before, #sk-container-id-3 div.sk-parallel-item::before {content: \"\";position: absolute;border-left: 1px solid gray;box-sizing: border-box;top: 0;bottom: 0;left: 50%;z-index: -1;}#sk-container-id-3 div.sk-parallel-item {display: flex;flex-direction: column;z-index: 1;position: relative;background-color: white;}#sk-container-id-3 div.sk-parallel-item:first-child::after {align-self: flex-end;width: 50%;}#sk-container-id-3 div.sk-parallel-item:last-child::after {align-self: flex-start;width: 50%;}#sk-container-id-3 div.sk-parallel-item:only-child::after {width: 0;}#sk-container-id-3 div.sk-dashed-wrapped {border: 1px dashed gray;margin: 0 0.4em 0.5em 0.4em;box-sizing: border-box;padding-bottom: 0.4em;background-color: white;}#sk-container-id-3 div.sk-label label {font-family: monospace;font-weight: bold;display: inline-block;line-height: 1.2em;}#sk-container-id-3 div.sk-label-container {text-align: center;}#sk-container-id-3 div.sk-container {/* jupyter's `normalize.less` sets `[hidden] { display: none; }` but bootstrap.min.css set `[hidden] { display: none !important; }` so we also need the `!important` here to be able to override the default hidden behavior on the sphinx rendered scikit-learn.org. See: https://github.com/scikit-learn/scikit-learn/issues/21755 */display: inline-block !important;position: relative;}#sk-container-id-3 div.sk-text-repr-fallback {display: none;}</style><div id=\"sk-container-id-3\" class=\"sk-top-container\"><div class=\"sk-text-repr-fallback\"><pre>RandomForestRegressor()</pre><b>In a Jupyter environment, please rerun this cell to show the HTML representation or trust the notebook. <br />On GitHub, the HTML representation is unable to render, please try loading this page with nbviewer.org.</b></div><div class=\"sk-container\" hidden><div class=\"sk-item\"><div class=\"sk-estimator sk-toggleable\"><input class=\"sk-toggleable__control sk-hidden--visually\" id=\"sk-estimator-id-3\" type=\"checkbox\" checked><label for=\"sk-estimator-id-3\" class=\"sk-toggleable__label sk-toggleable__label-arrow\">RandomForestRegressor</label><div class=\"sk-toggleable__content\"><pre>RandomForestRegressor()</pre></div></div></div></div></div>"
      ],
      "text/plain": [
       "RandomForestRegressor()"
      ]
     },
     "execution_count": 35,
     "metadata": {},
     "output_type": "execute_result"
    }
   ],
   "source": [
    "RFmodel = RandomForestRegressor()\n",
    "RFmodel.fit(X_train, y_train)"
   ]
  },
  {
   "cell_type": "code",
   "execution_count": 36,
   "id": "521784df",
   "metadata": {},
   "outputs": [],
   "source": [
    "RF_predictions = RFmodel.predict(X_test)"
   ]
  },
  {
   "cell_type": "code",
   "execution_count": 37,
   "id": "06d63591",
   "metadata": {},
   "outputs": [
    {
     "name": "stdout",
     "output_type": "stream",
     "text": [
      "MAE: 0.5090379901960784\n",
      "MSE: 0.45022527573529414\n",
      "RMSE: 0.6709882828599126\n"
     ]
    }
   ],
   "source": [
    "print('MAE:', metrics.mean_absolute_error(y_test, RF_predictions))\n",
    "print('MSE:', metrics.mean_squared_error(y_test, RF_predictions))\n",
    "print('RMSE:', np.sqrt(metrics.mean_squared_error(y_test, RF_predictions)))"
   ]
  },
  {
   "cell_type": "code",
   "execution_count": 177,
   "id": "2b5101ce",
   "metadata": {},
   "outputs": [
    {
     "data": {
      "text/html": [
       "<style>#sk-container-id-11 {color: black;background-color: white;}#sk-container-id-11 pre{padding: 0;}#sk-container-id-11 div.sk-toggleable {background-color: white;}#sk-container-id-11 label.sk-toggleable__label {cursor: pointer;display: block;width: 100%;margin-bottom: 0;padding: 0.3em;box-sizing: border-box;text-align: center;}#sk-container-id-11 label.sk-toggleable__label-arrow:before {content: \"▸\";float: left;margin-right: 0.25em;color: #696969;}#sk-container-id-11 label.sk-toggleable__label-arrow:hover:before {color: black;}#sk-container-id-11 div.sk-estimator:hover label.sk-toggleable__label-arrow:before {color: black;}#sk-container-id-11 div.sk-toggleable__content {max-height: 0;max-width: 0;overflow: hidden;text-align: left;background-color: #f0f8ff;}#sk-container-id-11 div.sk-toggleable__content pre {margin: 0.2em;color: black;border-radius: 0.25em;background-color: #f0f8ff;}#sk-container-id-11 input.sk-toggleable__control:checked~div.sk-toggleable__content {max-height: 200px;max-width: 100%;overflow: auto;}#sk-container-id-11 input.sk-toggleable__control:checked~label.sk-toggleable__label-arrow:before {content: \"▾\";}#sk-container-id-11 div.sk-estimator input.sk-toggleable__control:checked~label.sk-toggleable__label {background-color: #d4ebff;}#sk-container-id-11 div.sk-label input.sk-toggleable__control:checked~label.sk-toggleable__label {background-color: #d4ebff;}#sk-container-id-11 input.sk-hidden--visually {border: 0;clip: rect(1px 1px 1px 1px);clip: rect(1px, 1px, 1px, 1px);height: 1px;margin: -1px;overflow: hidden;padding: 0;position: absolute;width: 1px;}#sk-container-id-11 div.sk-estimator {font-family: monospace;background-color: #f0f8ff;border: 1px dotted black;border-radius: 0.25em;box-sizing: border-box;margin-bottom: 0.5em;}#sk-container-id-11 div.sk-estimator:hover {background-color: #d4ebff;}#sk-container-id-11 div.sk-parallel-item::after {content: \"\";width: 100%;border-bottom: 1px solid gray;flex-grow: 1;}#sk-container-id-11 div.sk-label:hover label.sk-toggleable__label {background-color: #d4ebff;}#sk-container-id-11 div.sk-serial::before {content: \"\";position: absolute;border-left: 1px solid gray;box-sizing: border-box;top: 0;bottom: 0;left: 50%;z-index: 0;}#sk-container-id-11 div.sk-serial {display: flex;flex-direction: column;align-items: center;background-color: white;padding-right: 0.2em;padding-left: 0.2em;position: relative;}#sk-container-id-11 div.sk-item {position: relative;z-index: 1;}#sk-container-id-11 div.sk-parallel {display: flex;align-items: stretch;justify-content: center;background-color: white;position: relative;}#sk-container-id-11 div.sk-item::before, #sk-container-id-11 div.sk-parallel-item::before {content: \"\";position: absolute;border-left: 1px solid gray;box-sizing: border-box;top: 0;bottom: 0;left: 50%;z-index: -1;}#sk-container-id-11 div.sk-parallel-item {display: flex;flex-direction: column;z-index: 1;position: relative;background-color: white;}#sk-container-id-11 div.sk-parallel-item:first-child::after {align-self: flex-end;width: 50%;}#sk-container-id-11 div.sk-parallel-item:last-child::after {align-self: flex-start;width: 50%;}#sk-container-id-11 div.sk-parallel-item:only-child::after {width: 0;}#sk-container-id-11 div.sk-dashed-wrapped {border: 1px dashed gray;margin: 0 0.4em 0.5em 0.4em;box-sizing: border-box;padding-bottom: 0.4em;background-color: white;}#sk-container-id-11 div.sk-label label {font-family: monospace;font-weight: bold;display: inline-block;line-height: 1.2em;}#sk-container-id-11 div.sk-label-container {text-align: center;}#sk-container-id-11 div.sk-container {/* jupyter's `normalize.less` sets `[hidden] { display: none; }` but bootstrap.min.css set `[hidden] { display: none !important; }` so we also need the `!important` here to be able to override the default hidden behavior on the sphinx rendered scikit-learn.org. See: https://github.com/scikit-learn/scikit-learn/issues/21755 */display: inline-block !important;position: relative;}#sk-container-id-11 div.sk-text-repr-fallback {display: none;}</style><div id=\"sk-container-id-11\" class=\"sk-top-container\"><div class=\"sk-text-repr-fallback\"><pre>RandomForestRegressor(n_estimators=200)</pre><b>In a Jupyter environment, please rerun this cell to show the HTML representation or trust the notebook. <br />On GitHub, the HTML representation is unable to render, please try loading this page with nbviewer.org.</b></div><div class=\"sk-container\" hidden><div class=\"sk-item\"><div class=\"sk-estimator sk-toggleable\"><input class=\"sk-toggleable__control sk-hidden--visually\" id=\"sk-estimator-id-11\" type=\"checkbox\" checked><label for=\"sk-estimator-id-11\" class=\"sk-toggleable__label sk-toggleable__label-arrow\">RandomForestRegressor</label><div class=\"sk-toggleable__content\"><pre>RandomForestRegressor(n_estimators=200)</pre></div></div></div></div></div>"
      ],
      "text/plain": [
       "RandomForestRegressor(n_estimators=200)"
      ]
     },
     "execution_count": 177,
     "metadata": {},
     "output_type": "execute_result"
    }
   ],
   "source": [
    "RFmodel = RandomForestRegressor(n_estimators = 200)\n",
    "RFmodel.fit(X_train, y_train)"
   ]
  },
  {
   "cell_type": "code",
   "execution_count": 178,
   "id": "e38f51e3",
   "metadata": {},
   "outputs": [],
   "source": [
    "RF_predictions = RFmodel.predict(X_test)"
   ]
  },
  {
   "cell_type": "code",
   "execution_count": 179,
   "id": "12f4dba3",
   "metadata": {},
   "outputs": [
    {
     "name": "stdout",
     "output_type": "stream",
     "text": [
      "MAE: 0.5066023284313727\n",
      "MSE: 0.4440783930759804\n",
      "RMSE: 0.6663920715884759\n"
     ]
    }
   ],
   "source": [
    "print('MAE:', metrics.mean_absolute_error(y_test, RF_predictions))\n",
    "print('MSE:', metrics.mean_squared_error(y_test, RF_predictions))\n",
    "print('RMSE:', np.sqrt(metrics.mean_squared_error(y_test, RF_predictions)))"
   ]
  },
  {
   "cell_type": "code",
   "execution_count": 41,
   "id": "54e010ba",
   "metadata": {},
   "outputs": [
    {
     "data": {
      "text/html": [
       "<style>#sk-container-id-5 {color: black;background-color: white;}#sk-container-id-5 pre{padding: 0;}#sk-container-id-5 div.sk-toggleable {background-color: white;}#sk-container-id-5 label.sk-toggleable__label {cursor: pointer;display: block;width: 100%;margin-bottom: 0;padding: 0.3em;box-sizing: border-box;text-align: center;}#sk-container-id-5 label.sk-toggleable__label-arrow:before {content: \"▸\";float: left;margin-right: 0.25em;color: #696969;}#sk-container-id-5 label.sk-toggleable__label-arrow:hover:before {color: black;}#sk-container-id-5 div.sk-estimator:hover label.sk-toggleable__label-arrow:before {color: black;}#sk-container-id-5 div.sk-toggleable__content {max-height: 0;max-width: 0;overflow: hidden;text-align: left;background-color: #f0f8ff;}#sk-container-id-5 div.sk-toggleable__content pre {margin: 0.2em;color: black;border-radius: 0.25em;background-color: #f0f8ff;}#sk-container-id-5 input.sk-toggleable__control:checked~div.sk-toggleable__content {max-height: 200px;max-width: 100%;overflow: auto;}#sk-container-id-5 input.sk-toggleable__control:checked~label.sk-toggleable__label-arrow:before {content: \"▾\";}#sk-container-id-5 div.sk-estimator input.sk-toggleable__control:checked~label.sk-toggleable__label {background-color: #d4ebff;}#sk-container-id-5 div.sk-label input.sk-toggleable__control:checked~label.sk-toggleable__label {background-color: #d4ebff;}#sk-container-id-5 input.sk-hidden--visually {border: 0;clip: rect(1px 1px 1px 1px);clip: rect(1px, 1px, 1px, 1px);height: 1px;margin: -1px;overflow: hidden;padding: 0;position: absolute;width: 1px;}#sk-container-id-5 div.sk-estimator {font-family: monospace;background-color: #f0f8ff;border: 1px dotted black;border-radius: 0.25em;box-sizing: border-box;margin-bottom: 0.5em;}#sk-container-id-5 div.sk-estimator:hover {background-color: #d4ebff;}#sk-container-id-5 div.sk-parallel-item::after {content: \"\";width: 100%;border-bottom: 1px solid gray;flex-grow: 1;}#sk-container-id-5 div.sk-label:hover label.sk-toggleable__label {background-color: #d4ebff;}#sk-container-id-5 div.sk-serial::before {content: \"\";position: absolute;border-left: 1px solid gray;box-sizing: border-box;top: 0;bottom: 0;left: 50%;z-index: 0;}#sk-container-id-5 div.sk-serial {display: flex;flex-direction: column;align-items: center;background-color: white;padding-right: 0.2em;padding-left: 0.2em;position: relative;}#sk-container-id-5 div.sk-item {position: relative;z-index: 1;}#sk-container-id-5 div.sk-parallel {display: flex;align-items: stretch;justify-content: center;background-color: white;position: relative;}#sk-container-id-5 div.sk-item::before, #sk-container-id-5 div.sk-parallel-item::before {content: \"\";position: absolute;border-left: 1px solid gray;box-sizing: border-box;top: 0;bottom: 0;left: 50%;z-index: -1;}#sk-container-id-5 div.sk-parallel-item {display: flex;flex-direction: column;z-index: 1;position: relative;background-color: white;}#sk-container-id-5 div.sk-parallel-item:first-child::after {align-self: flex-end;width: 50%;}#sk-container-id-5 div.sk-parallel-item:last-child::after {align-self: flex-start;width: 50%;}#sk-container-id-5 div.sk-parallel-item:only-child::after {width: 0;}#sk-container-id-5 div.sk-dashed-wrapped {border: 1px dashed gray;margin: 0 0.4em 0.5em 0.4em;box-sizing: border-box;padding-bottom: 0.4em;background-color: white;}#sk-container-id-5 div.sk-label label {font-family: monospace;font-weight: bold;display: inline-block;line-height: 1.2em;}#sk-container-id-5 div.sk-label-container {text-align: center;}#sk-container-id-5 div.sk-container {/* jupyter's `normalize.less` sets `[hidden] { display: none; }` but bootstrap.min.css set `[hidden] { display: none !important; }` so we also need the `!important` here to be able to override the default hidden behavior on the sphinx rendered scikit-learn.org. See: https://github.com/scikit-learn/scikit-learn/issues/21755 */display: inline-block !important;position: relative;}#sk-container-id-5 div.sk-text-repr-fallback {display: none;}</style><div id=\"sk-container-id-5\" class=\"sk-top-container\"><div class=\"sk-text-repr-fallback\"><pre>RandomForestRegressor(n_estimators=300)</pre><b>In a Jupyter environment, please rerun this cell to show the HTML representation or trust the notebook. <br />On GitHub, the HTML representation is unable to render, please try loading this page with nbviewer.org.</b></div><div class=\"sk-container\" hidden><div class=\"sk-item\"><div class=\"sk-estimator sk-toggleable\"><input class=\"sk-toggleable__control sk-hidden--visually\" id=\"sk-estimator-id-5\" type=\"checkbox\" checked><label for=\"sk-estimator-id-5\" class=\"sk-toggleable__label sk-toggleable__label-arrow\">RandomForestRegressor</label><div class=\"sk-toggleable__content\"><pre>RandomForestRegressor(n_estimators=300)</pre></div></div></div></div></div>"
      ],
      "text/plain": [
       "RandomForestRegressor(n_estimators=300)"
      ]
     },
     "execution_count": 41,
     "metadata": {},
     "output_type": "execute_result"
    }
   ],
   "source": [
    "RFmodel = RandomForestRegressor(n_estimators = 300)\n",
    "RFmodel.fit(X_train, y_train)"
   ]
  },
  {
   "cell_type": "code",
   "execution_count": 42,
   "id": "4eec0743",
   "metadata": {},
   "outputs": [],
   "source": [
    "RF_predictions = RFmodel.predict(X_test)"
   ]
  },
  {
   "cell_type": "code",
   "execution_count": 43,
   "id": "d252c31d",
   "metadata": {},
   "outputs": [
    {
     "name": "stdout",
     "output_type": "stream",
     "text": [
      "MAE: 0.5058823529411764\n",
      "MSE: 0.44544218409586056\n",
      "RMSE: 0.6674145519059803\n"
     ]
    }
   ],
   "source": [
    "print('MAE:', metrics.mean_absolute_error(y_test, RF_predictions))\n",
    "print('MSE:', metrics.mean_squared_error(y_test, RF_predictions))\n",
    "print('RMSE:', np.sqrt(metrics.mean_squared_error(y_test, RF_predictions)))\n",
    "acc = np.array([metrics.mean_absolute_error(y_test, RF_predictions), metrics.mean_squared_error(y_test, RF_predictions), np.sqrt(metrics.mean_squared_error(y_test, RF_predictions))])\n",
    "accuracy_compare['Random Forests'] = acc"
   ]
  },
  {
   "cell_type": "markdown",
   "id": "b9842917",
   "metadata": {},
   "source": [
    "### Decision Trees"
   ]
  },
  {
   "cell_type": "code",
   "execution_count": 44,
   "id": "f208fbe7",
   "metadata": {},
   "outputs": [],
   "source": [
    "from sklearn.tree import DecisionTreeRegressor "
   ]
  },
  {
   "cell_type": "code",
   "execution_count": 45,
   "id": "ff9026bc",
   "metadata": {},
   "outputs": [
    {
     "data": {
      "text/html": [
       "<style>#sk-container-id-6 {color: black;background-color: white;}#sk-container-id-6 pre{padding: 0;}#sk-container-id-6 div.sk-toggleable {background-color: white;}#sk-container-id-6 label.sk-toggleable__label {cursor: pointer;display: block;width: 100%;margin-bottom: 0;padding: 0.3em;box-sizing: border-box;text-align: center;}#sk-container-id-6 label.sk-toggleable__label-arrow:before {content: \"▸\";float: left;margin-right: 0.25em;color: #696969;}#sk-container-id-6 label.sk-toggleable__label-arrow:hover:before {color: black;}#sk-container-id-6 div.sk-estimator:hover label.sk-toggleable__label-arrow:before {color: black;}#sk-container-id-6 div.sk-toggleable__content {max-height: 0;max-width: 0;overflow: hidden;text-align: left;background-color: #f0f8ff;}#sk-container-id-6 div.sk-toggleable__content pre {margin: 0.2em;color: black;border-radius: 0.25em;background-color: #f0f8ff;}#sk-container-id-6 input.sk-toggleable__control:checked~div.sk-toggleable__content {max-height: 200px;max-width: 100%;overflow: auto;}#sk-container-id-6 input.sk-toggleable__control:checked~label.sk-toggleable__label-arrow:before {content: \"▾\";}#sk-container-id-6 div.sk-estimator input.sk-toggleable__control:checked~label.sk-toggleable__label {background-color: #d4ebff;}#sk-container-id-6 div.sk-label input.sk-toggleable__control:checked~label.sk-toggleable__label {background-color: #d4ebff;}#sk-container-id-6 input.sk-hidden--visually {border: 0;clip: rect(1px 1px 1px 1px);clip: rect(1px, 1px, 1px, 1px);height: 1px;margin: -1px;overflow: hidden;padding: 0;position: absolute;width: 1px;}#sk-container-id-6 div.sk-estimator {font-family: monospace;background-color: #f0f8ff;border: 1px dotted black;border-radius: 0.25em;box-sizing: border-box;margin-bottom: 0.5em;}#sk-container-id-6 div.sk-estimator:hover {background-color: #d4ebff;}#sk-container-id-6 div.sk-parallel-item::after {content: \"\";width: 100%;border-bottom: 1px solid gray;flex-grow: 1;}#sk-container-id-6 div.sk-label:hover label.sk-toggleable__label {background-color: #d4ebff;}#sk-container-id-6 div.sk-serial::before {content: \"\";position: absolute;border-left: 1px solid gray;box-sizing: border-box;top: 0;bottom: 0;left: 50%;z-index: 0;}#sk-container-id-6 div.sk-serial {display: flex;flex-direction: column;align-items: center;background-color: white;padding-right: 0.2em;padding-left: 0.2em;position: relative;}#sk-container-id-6 div.sk-item {position: relative;z-index: 1;}#sk-container-id-6 div.sk-parallel {display: flex;align-items: stretch;justify-content: center;background-color: white;position: relative;}#sk-container-id-6 div.sk-item::before, #sk-container-id-6 div.sk-parallel-item::before {content: \"\";position: absolute;border-left: 1px solid gray;box-sizing: border-box;top: 0;bottom: 0;left: 50%;z-index: -1;}#sk-container-id-6 div.sk-parallel-item {display: flex;flex-direction: column;z-index: 1;position: relative;background-color: white;}#sk-container-id-6 div.sk-parallel-item:first-child::after {align-self: flex-end;width: 50%;}#sk-container-id-6 div.sk-parallel-item:last-child::after {align-self: flex-start;width: 50%;}#sk-container-id-6 div.sk-parallel-item:only-child::after {width: 0;}#sk-container-id-6 div.sk-dashed-wrapped {border: 1px dashed gray;margin: 0 0.4em 0.5em 0.4em;box-sizing: border-box;padding-bottom: 0.4em;background-color: white;}#sk-container-id-6 div.sk-label label {font-family: monospace;font-weight: bold;display: inline-block;line-height: 1.2em;}#sk-container-id-6 div.sk-label-container {text-align: center;}#sk-container-id-6 div.sk-container {/* jupyter's `normalize.less` sets `[hidden] { display: none; }` but bootstrap.min.css set `[hidden] { display: none !important; }` so we also need the `!important` here to be able to override the default hidden behavior on the sphinx rendered scikit-learn.org. See: https://github.com/scikit-learn/scikit-learn/issues/21755 */display: inline-block !important;position: relative;}#sk-container-id-6 div.sk-text-repr-fallback {display: none;}</style><div id=\"sk-container-id-6\" class=\"sk-top-container\"><div class=\"sk-text-repr-fallback\"><pre>DecisionTreeRegressor()</pre><b>In a Jupyter environment, please rerun this cell to show the HTML representation or trust the notebook. <br />On GitHub, the HTML representation is unable to render, please try loading this page with nbviewer.org.</b></div><div class=\"sk-container\" hidden><div class=\"sk-item\"><div class=\"sk-estimator sk-toggleable\"><input class=\"sk-toggleable__control sk-hidden--visually\" id=\"sk-estimator-id-6\" type=\"checkbox\" checked><label for=\"sk-estimator-id-6\" class=\"sk-toggleable__label sk-toggleable__label-arrow\">DecisionTreeRegressor</label><div class=\"sk-toggleable__content\"><pre>DecisionTreeRegressor()</pre></div></div></div></div></div>"
      ],
      "text/plain": [
       "DecisionTreeRegressor()"
      ]
     },
     "execution_count": 45,
     "metadata": {},
     "output_type": "execute_result"
    }
   ],
   "source": [
    "DFmodel = DecisionTreeRegressor()\n",
    "DFmodel.fit(X_train, y_train)"
   ]
  },
  {
   "cell_type": "code",
   "execution_count": 46,
   "id": "5e0eb55c",
   "metadata": {},
   "outputs": [],
   "source": [
    "DF_predictions = RFmodel.predict(X_test)"
   ]
  },
  {
   "cell_type": "code",
   "execution_count": 47,
   "id": "8d21d2bd",
   "metadata": {
    "scrolled": true
   },
   "outputs": [
    {
     "name": "stdout",
     "output_type": "stream",
     "text": [
      "MAE: 0.5058823529411764\n",
      "MSE: 0.44544218409586056\n",
      "RMSE: 0.6674145519059803\n"
     ]
    }
   ],
   "source": [
    "print('MAE:', metrics.mean_absolute_error(y_test, DF_predictions))\n",
    "print('MSE:', metrics.mean_squared_error(y_test, DF_predictions))\n",
    "print('RMSE:', np.sqrt(metrics.mean_squared_error(y_test, DF_predictions)))\n",
    "acc = np.array([metrics.mean_absolute_error(y_test, DF_predictions), metrics.mean_squared_error(y_test, DF_predictions), np.sqrt(metrics.mean_squared_error(y_test, DF_predictions))])\n",
    "accuracy_compare['Decision Trees'] = acc"
   ]
  },
  {
   "cell_type": "markdown",
   "id": "0e6e6afe",
   "metadata": {},
   "source": [
    "### Ridge regression"
   ]
  },
  {
   "cell_type": "code",
   "execution_count": 48,
   "id": "fc2ecf5c",
   "metadata": {},
   "outputs": [],
   "source": [
    "from sklearn.linear_model import Ridge"
   ]
  },
  {
   "cell_type": "code",
   "execution_count": 49,
   "id": "0ad97995",
   "metadata": {},
   "outputs": [
    {
     "data": {
      "text/html": [
       "<style>#sk-container-id-7 {color: black;background-color: white;}#sk-container-id-7 pre{padding: 0;}#sk-container-id-7 div.sk-toggleable {background-color: white;}#sk-container-id-7 label.sk-toggleable__label {cursor: pointer;display: block;width: 100%;margin-bottom: 0;padding: 0.3em;box-sizing: border-box;text-align: center;}#sk-container-id-7 label.sk-toggleable__label-arrow:before {content: \"▸\";float: left;margin-right: 0.25em;color: #696969;}#sk-container-id-7 label.sk-toggleable__label-arrow:hover:before {color: black;}#sk-container-id-7 div.sk-estimator:hover label.sk-toggleable__label-arrow:before {color: black;}#sk-container-id-7 div.sk-toggleable__content {max-height: 0;max-width: 0;overflow: hidden;text-align: left;background-color: #f0f8ff;}#sk-container-id-7 div.sk-toggleable__content pre {margin: 0.2em;color: black;border-radius: 0.25em;background-color: #f0f8ff;}#sk-container-id-7 input.sk-toggleable__control:checked~div.sk-toggleable__content {max-height: 200px;max-width: 100%;overflow: auto;}#sk-container-id-7 input.sk-toggleable__control:checked~label.sk-toggleable__label-arrow:before {content: \"▾\";}#sk-container-id-7 div.sk-estimator input.sk-toggleable__control:checked~label.sk-toggleable__label {background-color: #d4ebff;}#sk-container-id-7 div.sk-label input.sk-toggleable__control:checked~label.sk-toggleable__label {background-color: #d4ebff;}#sk-container-id-7 input.sk-hidden--visually {border: 0;clip: rect(1px 1px 1px 1px);clip: rect(1px, 1px, 1px, 1px);height: 1px;margin: -1px;overflow: hidden;padding: 0;position: absolute;width: 1px;}#sk-container-id-7 div.sk-estimator {font-family: monospace;background-color: #f0f8ff;border: 1px dotted black;border-radius: 0.25em;box-sizing: border-box;margin-bottom: 0.5em;}#sk-container-id-7 div.sk-estimator:hover {background-color: #d4ebff;}#sk-container-id-7 div.sk-parallel-item::after {content: \"\";width: 100%;border-bottom: 1px solid gray;flex-grow: 1;}#sk-container-id-7 div.sk-label:hover label.sk-toggleable__label {background-color: #d4ebff;}#sk-container-id-7 div.sk-serial::before {content: \"\";position: absolute;border-left: 1px solid gray;box-sizing: border-box;top: 0;bottom: 0;left: 50%;z-index: 0;}#sk-container-id-7 div.sk-serial {display: flex;flex-direction: column;align-items: center;background-color: white;padding-right: 0.2em;padding-left: 0.2em;position: relative;}#sk-container-id-7 div.sk-item {position: relative;z-index: 1;}#sk-container-id-7 div.sk-parallel {display: flex;align-items: stretch;justify-content: center;background-color: white;position: relative;}#sk-container-id-7 div.sk-item::before, #sk-container-id-7 div.sk-parallel-item::before {content: \"\";position: absolute;border-left: 1px solid gray;box-sizing: border-box;top: 0;bottom: 0;left: 50%;z-index: -1;}#sk-container-id-7 div.sk-parallel-item {display: flex;flex-direction: column;z-index: 1;position: relative;background-color: white;}#sk-container-id-7 div.sk-parallel-item:first-child::after {align-self: flex-end;width: 50%;}#sk-container-id-7 div.sk-parallel-item:last-child::after {align-self: flex-start;width: 50%;}#sk-container-id-7 div.sk-parallel-item:only-child::after {width: 0;}#sk-container-id-7 div.sk-dashed-wrapped {border: 1px dashed gray;margin: 0 0.4em 0.5em 0.4em;box-sizing: border-box;padding-bottom: 0.4em;background-color: white;}#sk-container-id-7 div.sk-label label {font-family: monospace;font-weight: bold;display: inline-block;line-height: 1.2em;}#sk-container-id-7 div.sk-label-container {text-align: center;}#sk-container-id-7 div.sk-container {/* jupyter's `normalize.less` sets `[hidden] { display: none; }` but bootstrap.min.css set `[hidden] { display: none !important; }` so we also need the `!important` here to be able to override the default hidden behavior on the sphinx rendered scikit-learn.org. See: https://github.com/scikit-learn/scikit-learn/issues/21755 */display: inline-block !important;position: relative;}#sk-container-id-7 div.sk-text-repr-fallback {display: none;}</style><div id=\"sk-container-id-7\" class=\"sk-top-container\"><div class=\"sk-text-repr-fallback\"><pre>Ridge()</pre><b>In a Jupyter environment, please rerun this cell to show the HTML representation or trust the notebook. <br />On GitHub, the HTML representation is unable to render, please try loading this page with nbviewer.org.</b></div><div class=\"sk-container\" hidden><div class=\"sk-item\"><div class=\"sk-estimator sk-toggleable\"><input class=\"sk-toggleable__control sk-hidden--visually\" id=\"sk-estimator-id-7\" type=\"checkbox\" checked><label for=\"sk-estimator-id-7\" class=\"sk-toggleable__label sk-toggleable__label-arrow\">Ridge</label><div class=\"sk-toggleable__content\"><pre>Ridge()</pre></div></div></div></div></div>"
      ],
      "text/plain": [
       "Ridge()"
      ]
     },
     "execution_count": 49,
     "metadata": {},
     "output_type": "execute_result"
    }
   ],
   "source": [
    "Rmodel = Ridge()\n",
    "Rmodel.fit(X_train,y_train)"
   ]
  },
  {
   "cell_type": "code",
   "execution_count": 50,
   "id": "1c307a51",
   "metadata": {},
   "outputs": [],
   "source": [
    "R_predictions = Rmodel.predict(X_test)"
   ]
  },
  {
   "cell_type": "code",
   "execution_count": 51,
   "id": "25577c08",
   "metadata": {},
   "outputs": [
    {
     "name": "stdout",
     "output_type": "stream",
     "text": [
      "MAE: 0.5542862782389082\n",
      "MSE: 0.5561648209537963\n",
      "RMSE: 0.7457645881602292\n"
     ]
    }
   ],
   "source": [
    "print('MAE:', metrics.mean_absolute_error(y_test, R_predictions))\n",
    "print('MSE:', metrics.mean_squared_error(y_test, R_predictions))\n",
    "print('RMSE:', np.sqrt(metrics.mean_squared_error(y_test, R_predictions)))\n",
    "acc = np.array([metrics.mean_absolute_error(y_test, R_predictions), metrics.mean_squared_error(y_test, R_predictions), np.sqrt(metrics.mean_squared_error(y_test, R_predictions))])\n",
    "accuracy_compare['Ridge'] = acc"
   ]
  },
  {
   "cell_type": "markdown",
   "id": "2324a2b5",
   "metadata": {},
   "source": [
    "### Lasso"
   ]
  },
  {
   "cell_type": "code",
   "execution_count": 52,
   "id": "72d4832b",
   "metadata": {},
   "outputs": [],
   "source": [
    "from sklearn.linear_model import Lasso"
   ]
  },
  {
   "cell_type": "code",
   "execution_count": 53,
   "id": "6b704bb8",
   "metadata": {},
   "outputs": [
    {
     "name": "stderr",
     "output_type": "stream",
     "text": [
      "D:\\anaconda\\lib\\site-packages\\sklearn\\linear_model\\_coordinate_descent.py:648: ConvergenceWarning: Objective did not converge. You might want to increase the number of iterations, check the scale of the features or consider increasing regularisation. Duality gap: 1.134e+00, tolerance: 1.756e-01\n",
      "  model = cd_fast.enet_coordinate_descent(\n"
     ]
    },
    {
     "data": {
      "text/html": [
       "<style>#sk-container-id-8 {color: black;background-color: white;}#sk-container-id-8 pre{padding: 0;}#sk-container-id-8 div.sk-toggleable {background-color: white;}#sk-container-id-8 label.sk-toggleable__label {cursor: pointer;display: block;width: 100%;margin-bottom: 0;padding: 0.3em;box-sizing: border-box;text-align: center;}#sk-container-id-8 label.sk-toggleable__label-arrow:before {content: \"▸\";float: left;margin-right: 0.25em;color: #696969;}#sk-container-id-8 label.sk-toggleable__label-arrow:hover:before {color: black;}#sk-container-id-8 div.sk-estimator:hover label.sk-toggleable__label-arrow:before {color: black;}#sk-container-id-8 div.sk-toggleable__content {max-height: 0;max-width: 0;overflow: hidden;text-align: left;background-color: #f0f8ff;}#sk-container-id-8 div.sk-toggleable__content pre {margin: 0.2em;color: black;border-radius: 0.25em;background-color: #f0f8ff;}#sk-container-id-8 input.sk-toggleable__control:checked~div.sk-toggleable__content {max-height: 200px;max-width: 100%;overflow: auto;}#sk-container-id-8 input.sk-toggleable__control:checked~label.sk-toggleable__label-arrow:before {content: \"▾\";}#sk-container-id-8 div.sk-estimator input.sk-toggleable__control:checked~label.sk-toggleable__label {background-color: #d4ebff;}#sk-container-id-8 div.sk-label input.sk-toggleable__control:checked~label.sk-toggleable__label {background-color: #d4ebff;}#sk-container-id-8 input.sk-hidden--visually {border: 0;clip: rect(1px 1px 1px 1px);clip: rect(1px, 1px, 1px, 1px);height: 1px;margin: -1px;overflow: hidden;padding: 0;position: absolute;width: 1px;}#sk-container-id-8 div.sk-estimator {font-family: monospace;background-color: #f0f8ff;border: 1px dotted black;border-radius: 0.25em;box-sizing: border-box;margin-bottom: 0.5em;}#sk-container-id-8 div.sk-estimator:hover {background-color: #d4ebff;}#sk-container-id-8 div.sk-parallel-item::after {content: \"\";width: 100%;border-bottom: 1px solid gray;flex-grow: 1;}#sk-container-id-8 div.sk-label:hover label.sk-toggleable__label {background-color: #d4ebff;}#sk-container-id-8 div.sk-serial::before {content: \"\";position: absolute;border-left: 1px solid gray;box-sizing: border-box;top: 0;bottom: 0;left: 50%;z-index: 0;}#sk-container-id-8 div.sk-serial {display: flex;flex-direction: column;align-items: center;background-color: white;padding-right: 0.2em;padding-left: 0.2em;position: relative;}#sk-container-id-8 div.sk-item {position: relative;z-index: 1;}#sk-container-id-8 div.sk-parallel {display: flex;align-items: stretch;justify-content: center;background-color: white;position: relative;}#sk-container-id-8 div.sk-item::before, #sk-container-id-8 div.sk-parallel-item::before {content: \"\";position: absolute;border-left: 1px solid gray;box-sizing: border-box;top: 0;bottom: 0;left: 50%;z-index: -1;}#sk-container-id-8 div.sk-parallel-item {display: flex;flex-direction: column;z-index: 1;position: relative;background-color: white;}#sk-container-id-8 div.sk-parallel-item:first-child::after {align-self: flex-end;width: 50%;}#sk-container-id-8 div.sk-parallel-item:last-child::after {align-self: flex-start;width: 50%;}#sk-container-id-8 div.sk-parallel-item:only-child::after {width: 0;}#sk-container-id-8 div.sk-dashed-wrapped {border: 1px dashed gray;margin: 0 0.4em 0.5em 0.4em;box-sizing: border-box;padding-bottom: 0.4em;background-color: white;}#sk-container-id-8 div.sk-label label {font-family: monospace;font-weight: bold;display: inline-block;line-height: 1.2em;}#sk-container-id-8 div.sk-label-container {text-align: center;}#sk-container-id-8 div.sk-container {/* jupyter's `normalize.less` sets `[hidden] { display: none; }` but bootstrap.min.css set `[hidden] { display: none !important; }` so we also need the `!important` here to be able to override the default hidden behavior on the sphinx rendered scikit-learn.org. See: https://github.com/scikit-learn/scikit-learn/issues/21755 */display: inline-block !important;position: relative;}#sk-container-id-8 div.sk-text-repr-fallback {display: none;}</style><div id=\"sk-container-id-8\" class=\"sk-top-container\"><div class=\"sk-text-repr-fallback\"><pre>Lasso()</pre><b>In a Jupyter environment, please rerun this cell to show the HTML representation or trust the notebook. <br />On GitHub, the HTML representation is unable to render, please try loading this page with nbviewer.org.</b></div><div class=\"sk-container\" hidden><div class=\"sk-item\"><div class=\"sk-estimator sk-toggleable\"><input class=\"sk-toggleable__control sk-hidden--visually\" id=\"sk-estimator-id-8\" type=\"checkbox\" checked><label for=\"sk-estimator-id-8\" class=\"sk-toggleable__label sk-toggleable__label-arrow\">Lasso</label><div class=\"sk-toggleable__content\"><pre>Lasso()</pre></div></div></div></div></div>"
      ],
      "text/plain": [
       "Lasso()"
      ]
     },
     "execution_count": 53,
     "metadata": {},
     "output_type": "execute_result"
    }
   ],
   "source": [
    "Lmodel = Lasso()\n",
    "Lmodel.fit(X_train,y_train)"
   ]
  },
  {
   "cell_type": "code",
   "execution_count": 54,
   "id": "2ec02d30",
   "metadata": {},
   "outputs": [],
   "source": [
    "L_predictions = Lmodel.predict(X_test)"
   ]
  },
  {
   "cell_type": "code",
   "execution_count": 55,
   "id": "4d9180f5",
   "metadata": {},
   "outputs": [
    {
     "name": "stdout",
     "output_type": "stream",
     "text": [
      "MAE: 0.5580901980128976\n",
      "MSE: 0.5634413068411915\n",
      "RMSE: 0.7506272755776942\n"
     ]
    }
   ],
   "source": [
    "print('MAE:', metrics.mean_absolute_error(y_test, L_predictions))\n",
    "print('MSE:', metrics.mean_squared_error(y_test, L_predictions))\n",
    "print('RMSE:', np.sqrt(metrics.mean_squared_error(y_test, L_predictions)))\n",
    "acc = np.array([metrics.mean_absolute_error(y_test, L_predictions), metrics.mean_squared_error(y_test, L_predictions), np.sqrt(metrics.mean_squared_error(y_test, L_predictions))])\n",
    "accuracy_compare['Lasso'] = acc"
   ]
  },
  {
   "cell_type": "code",
   "execution_count": 56,
   "id": "2743c5f3",
   "metadata": {
    "scrolled": true
   },
   "outputs": [
    {
     "data": {
      "text/html": [
       "<div>\n",
       "<style scoped>\n",
       "    .dataframe tbody tr th:only-of-type {\n",
       "        vertical-align: middle;\n",
       "    }\n",
       "\n",
       "    .dataframe tbody tr th {\n",
       "        vertical-align: top;\n",
       "    }\n",
       "\n",
       "    .dataframe thead th {\n",
       "        text-align: right;\n",
       "    }\n",
       "</style>\n",
       "<table border=\"1\" class=\"dataframe\">\n",
       "  <thead>\n",
       "    <tr style=\"text-align: right;\">\n",
       "      <th></th>\n",
       "      <th>Logistic Regression</th>\n",
       "      <th>SVM</th>\n",
       "      <th>Random Forests</th>\n",
       "      <th>Decision Trees</th>\n",
       "      <th>Ridge</th>\n",
       "      <th>Lasso</th>\n",
       "    </tr>\n",
       "  </thead>\n",
       "  <tbody>\n",
       "    <tr>\n",
       "      <th>MAE</th>\n",
       "      <td>0.554286</td>\n",
       "      <td>0.779934</td>\n",
       "      <td>0.505882</td>\n",
       "      <td>0.505882</td>\n",
       "      <td>0.554286</td>\n",
       "      <td>0.558090</td>\n",
       "    </tr>\n",
       "    <tr>\n",
       "      <th>MSE</th>\n",
       "      <td>0.556165</td>\n",
       "      <td>0.993963</td>\n",
       "      <td>0.445442</td>\n",
       "      <td>0.445442</td>\n",
       "      <td>0.556165</td>\n",
       "      <td>0.563441</td>\n",
       "    </tr>\n",
       "    <tr>\n",
       "      <th>RMSE</th>\n",
       "      <td>0.745765</td>\n",
       "      <td>0.996977</td>\n",
       "      <td>0.667415</td>\n",
       "      <td>0.667415</td>\n",
       "      <td>0.745765</td>\n",
       "      <td>0.750627</td>\n",
       "    </tr>\n",
       "  </tbody>\n",
       "</table>\n",
       "</div>"
      ],
      "text/plain": [
       "      Logistic Regression       SVM  Random Forests  Decision Trees     Ridge  \\\n",
       "MAE              0.554286  0.779934        0.505882        0.505882  0.554286   \n",
       "MSE              0.556165  0.993963        0.445442        0.445442  0.556165   \n",
       "RMSE             0.745765  0.996977        0.667415        0.667415  0.745765   \n",
       "\n",
       "         Lasso  \n",
       "MAE   0.558090  \n",
       "MSE   0.563441  \n",
       "RMSE  0.750627  "
      ]
     },
     "execution_count": 56,
     "metadata": {},
     "output_type": "execute_result"
    }
   ],
   "source": [
    "accuracy_compare"
   ]
  },
  {
   "cell_type": "code",
   "execution_count": 57,
   "id": "cc399a19",
   "metadata": {},
   "outputs": [
    {
     "data": {
      "text/plain": [
       "<Axes: >"
      ]
     },
     "execution_count": 57,
     "metadata": {},
     "output_type": "execute_result"
    },
    {
     "data": {
      "image/png": "[encoded data removed]",
      "text/plain": [
       "<Figure size 640x480 with 1 Axes>"
      ]
     },
     "metadata": {},
     "output_type": "display_data"
    }
   ],
   "source": [
    "#accuracy of random forests are more effective by about 0.006 RMSE\n",
    "df_compare = pd.DataFrame(accuracy_compare)\n",
    "df_compare.plot(kind='bar')"
   ]
  },
  {
   "cell_type": "markdown",
   "id": "532140e8",
   "metadata": {},
   "source": [
    "## TODO\n",
    "- ogarnąć wykresy\n",
    "- przeanalizować textchange ✓✓✓\n",
    "- dokończyć oczyszczanie ✓✓✓ /\n",
    "a) usunąć niepotrzebne kolumny ✓✓✓ /\n",
    "b) przerobić dataset zeby grupowal do id (policzyć kropki,przecinki, nonproduction, input, replace/remove, backspace) ✓✓✓ /\n",
    "b) ~principal component analysis ✓✓✓\n",
    "- korelacje ✓✓✓\n",
    "- algorytm (regresja, SVC, Kneighbours, drzewka) ✓✓✓\n",
    "- dokumentacja ✓✓✓\n",
    "- komentarze ✓✓✓"
   ]
  }
 ],
 "metadata": {
  "kernelspec": {
   "display_name": "Python 3 (ipykernel)",
   "language": "python",
   "name": "python3"
  },
  "language_info": {
   "codemirror_mode": {
    "name": "ipython",
    "version": 3
   },
   "file_extension": ".py",
   "mimetype": "text/x-python",
   "name": "python",
   "nbconvert_exporter": "python",
   "pygments_lexer": "ipython3",
   "version": "3.11.3"
  }
 },
 "nbformat": 4,
 "nbformat_minor": 5
}
